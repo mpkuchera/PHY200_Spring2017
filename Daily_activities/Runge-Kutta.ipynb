{
 "cells": [
  {
   "cell_type": "markdown",
   "metadata": {},
   "source": [
    "# Fourth-Order Runge-Kutta (RK4)\n",
    "\n",
    "### Consider the 2nd order Ordinary Differential Equation (ODE) for a non-linear pendulum:\n",
    "\n",
    "$$\\frac{d^2\\theta}{dt^2} = -\\frac{g}{l}\\sin{\\theta}$$\n",
    "\n",
    "### In the Markdown cell below, write this as two *first order* ODEs.\n",
    "### Write equations in LaTeX form by enclosing the equation in `$$ $$`\n",
    "**Note:** You can double click in this cell to reference how the above ODE was typed in Markdown/LaTeX"
   ]
  },
  {
   "cell_type": "markdown",
   "metadata": {},
   "source": []
  },
  {
   "cell_type": "code",
   "execution_count": 36,
   "metadata": {
    "collapsed": true
   },
   "outputs": [],
   "source": [
    "# add you imports here\n",
    "%matplotlib inline\n",
    "from math import sin, pi,cos\n",
    "from numpy import linspace, array\n",
    "from pylab import plot, show, axes"
   ]
  },
  {
   "cell_type": "code",
   "execution_count": 41,
   "metadata": {
    "collapsed": true
   },
   "outputs": [],
   "source": [
    "g = 9.81 # m/s\n",
    "l = 1\n",
    "# define your function for your ODEs here\n",
    "# Reference pp 350 in your book if you need\n",
    "def f(r):\n",
    "    theta = r[0]\n",
    "    omega = r[1]\n",
    "    dtheta = omega\n",
    "    domega = -g/l * sin(theta)\n",
    "    return array([dtheta,domega],float)\n"
   ]
  },
  {
   "cell_type": "code",
   "execution_count": 52,
   "metadata": {
    "collapsed": false
   },
   "outputs": [],
   "source": [
    "# define your fourth-order Runge-Kutta here\n",
    "# reference pp 345 in your book for this\n",
    "T = linspace(0,100,1000)\n",
    "theta0 = pi/4\n",
    "omega0 = 0.0\n",
    "xs = []\n",
    "ys = []\n",
    "r = array([theta0,omega0],float)\n",
    "#print(r)\n",
    "xs.append(l*sin(r[0]))\n",
    "ys.append(-l*cos(r[0]))\n",
    "h = .1\n",
    "for t in T:\n",
    "    k1 = h*f(r)\n",
    "    #print(k1)\n",
    "    k2 = h*f(r+0.5*k1)\n",
    "    k3 = h*f(r+0.5*k2)\n",
    "    k4 = h*f(r+k3)\n",
    "    r+= (k1+k2+2*k3+k4)/6\n",
    "    xs.append(l*sin(r[0]))\n",
    "    ys.append(-l*cos(r[0]))"
   ]
  },
  {
   "cell_type": "code",
   "execution_count": 54,
   "metadata": {
    "collapsed": false
   },
   "outputs": [
    {
     "data": {
      "image/png": "[encoded data removed]",
      "text/plain": [
       "<matplotlib.figure.Figure at 0x111522390>"
      ]
     },
     "metadata": {},
     "output_type": "display_data"
    }
   ],
   "source": [
    "plot(xs,ys,'o')\n",
    "plot(0,0,'o')\n",
    "axes().set_aspect(\"equal\")\n",
    "show()"
   ]
  },
  {
   "cell_type": "code",
   "execution_count": null,
   "metadata": {
    "collapsed": true
   },
   "outputs": [],
   "source": []
  }
 ],
 "metadata": {
  "kernelspec": {
   "display_name": "Python 3",
   "language": "python",
   "name": "python3"
  },
  "language_info": {
   "codemirror_mode": {
    "name": "ipython",
    "version": 3
   },
   "file_extension": ".py",
   "mimetype": "text/x-python",
   "name": "python",
   "nbconvert_exporter": "python",
   "pygments_lexer": "ipython3",
   "version": "3.5.1"
  }
 },
 "nbformat": 4,
 "nbformat_minor": 0
}

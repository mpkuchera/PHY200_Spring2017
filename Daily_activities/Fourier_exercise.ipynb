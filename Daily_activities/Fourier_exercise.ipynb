{
 "cells": [
  {
   "cell_type": "markdown",
   "metadata": {},
   "source": [
    "# Fourier transforms of sound data\n",
    "\n",
    "Fourier series:\n",
    "$$f(x) = \\sum_{k=\\infty}^{\\infty}\\gamma_k e^{i\\frac{2\\pi kx}{L}}$$\n",
    "where\n",
    "$$\n",
    "    \\gamma_k=\\left\\{\n",
    "                \\begin{array}{ll}\n",
    "                  \\frac{1}{2}(\\alpha_{-k}+i\\beta_{-k})\\\\\n",
    "                  \\alpha_0\\\\\n",
    "                  \\frac{1}{2}(\\alpha_k - i\\beta_k)\n",
    "                \\end{array}\n",
    "              \\right.\n",
    "  $$\n",
    "  Given a function $f(x)$, we can find the Fourier coefficients,\n",
    "  $$\\gamma_k = \\frac{1}{L}\\int_0^L f(x)e^{-i\\frac{2\\pi kx}{L}dx}$$\n",
    "\n",
    "If, instead of $f(x)$, you have a discrete set of points, the Fourier transform can be written as: \n",
    "$$\\gamma_k = \\frac{1}{N}\\sum_{n=0}^{N-1} y_ne^{-i\\frac{2\\pi kn}{N}}$$\n",
    "By convention, the Discrete Fourier Transform (DFT) is given by:\n",
    "$$c_k = \\sum_{n=0}^{N-1}y_n e^{-i\\frac{2\\pi kn}{N}}$$\n",
    "\n",
    "for $0 < k \\leq N/2$.\n",
    "\n",
    "If we know the sample rate of the data, then we can convert the coefficient to a frequency: $$f_k = \\frac{k c_k}{N/2}$$"
   ]
  },
  {
   "cell_type": "code",
   "execution_count": 5,
   "metadata": {},
   "outputs": [],
   "source": [
    "# To display plots in notebook\n",
    "%matplotlib inline \n",
    "\n",
    "# import packages in this cell \n",
    "import numpy as np\n",
    "import matplotlib.pyplot as plt\n",
    "# This package will play arrays as audio.\n",
    "from IPython.display import Audio\n"
   ]
  },
  {
   "cell_type": "markdown",
   "metadata": {},
   "source": [
    "In the cell below, write a `DFT` function that takes in an array of N $y_n$ elements, and returns an array of $N/2$ coefficients."
   ]
  },
  {
   "cell_type": "code",
   "execution_count": null,
   "metadata": {
    "collapsed": true
   },
   "outputs": [],
   "source": []
  },
  {
   "cell_type": "markdown",
   "metadata": {},
   "source": [
    "In the following cell, test your function with the following array. Plot $y_n$ and $c_k$ on seperate plots. Do your results make sense?"
   ]
  },
  {
   "cell_type": "code",
   "execution_count": 4,
   "metadata": {},
   "outputs": [
    {
     "data": {
      "text/plain": [
       "[<matplotlib.lines.Line2D at 0x105d35390>]"
      ]
     },
     "execution_count": 4,
     "metadata": {},
     "output_type": "execute_result"
    },
    {
     "data": {
      "image/png": "[encoded data removed]",
      "text/plain": [
       "<matplotlib.figure.Figure at 0x105cc12e8>"
      ]
     },
     "metadata": {},
     "output_type": "display_data"
    }
   ],
   "source": [
    "y = np.sin(np.linspace(0,360*4,100) *np.pi / 180. )\n",
    "\n",
    "plt.plot(y)"
   ]
  },
  {
   "cell_type": "markdown",
   "metadata": {},
   "source": [
    "\n",
    "1. Use the program **Audacity** to record sound data.\n",
    "2. Export the data as a linear text file with no header\n",
    "3. plot the data, make sure that you have the waveform you want\n",
    "4. code the DFT and plot $k$ vs $c_k$ for a small portion of your data\n",
    "5. Use $\\texttt{rfft}$ function from $\\texttt{numpy.fft}$ to examine more of your data"
   ]
  },
  {
   "cell_type": "code",
   "execution_count": null,
   "metadata": {
    "collapsed": true
   },
   "outputs": [],
   "source": []
  },
  {
   "cell_type": "markdown",
   "metadata": {},
   "source": [
    "In the following cell, discuss the frequency composition of your recorded sound."
   ]
  },
  {
   "cell_type": "code",
   "execution_count": null,
   "metadata": {
    "collapsed": true
   },
   "outputs": [],
   "source": []
  }
 ],
 "metadata": {
  "anaconda-cloud": {},
  "kernelspec": {
   "display_name": "Python 3",
   "language": "python",
   "name": "python3"
  },
  "language_info": {
   "codemirror_mode": {
    "name": "ipython",
    "version": 3
   },
   "file_extension": ".py",
   "mimetype": "text/x-python",
   "name": "python",
   "nbconvert_exporter": "python",
   "pygments_lexer": "ipython3",
   "version": "3.5.1"
  }
 },
 "nbformat": 4,
 "nbformat_minor": 1
}

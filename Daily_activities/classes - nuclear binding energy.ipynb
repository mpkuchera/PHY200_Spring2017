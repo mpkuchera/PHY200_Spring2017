{
 "cells": [
  {
   "cell_type": "markdown",
   "metadata": {},
   "source": [
    "# Object-Oriented Programming -- Classes\n",
    "\n",
    "1) Create a nucleus class that stores the number of protons, $Z$ and the number or neutrons, $N$ of the nucleus. Create three functions within the class, one that calculates and returns the binding energy, one that calculates binding energy per nucleon, and one that returns a boolean indicating whether or not the nucleus is bound (BE > 0).\n",
    "\n",
    "2) Use this class to create a list of Oxygen isotopes ($Z=8$) from $ N = 7$ to $N = 13$ \n",
    "\n",
    "3) Loop through these isotopes and print if each is bound.\n",
    "\n",
    "Recall the semi-empirical mass formula for calculating the binding energy of a nucleus:\n",
    "\n",
    "$$BE(A,Z) = a_1A-a_2A^{2/3}-a_3\\frac{Z^2}{A^{1/3}}-a_4\\frac{(A-2Z)^2}{A}+\\frac{a_5}{A^{1/2}}$$\n",
    "\n",
    "where $A = Z+N$, $a_1 = 15.8$, $a_2=18.3$, $a_3=0.714$, $a_4=23.2$, and \n",
    "\n",
    "$$a_5=\\left\\{\n",
    "                \\begin{array}{ll}\n",
    "                  0:  \\textrm{if A odd}\\\\\n",
    "                  12.0: \\textrm{if A & Z even}\\\\\n",
    "                  -12.0: \\textrm{is A even & Z odd}\n",
    "                \\end{array}\n",
    "              \\right.$$\n"
   ]
  },
  {
   "cell_type": "code",
   "execution_count": 1,
   "metadata": {
    "collapsed": true
   },
   "outputs": [],
   "source": [
    "# define class here"
   ]
  },
  {
   "cell_type": "code",
   "execution_count": 2,
   "metadata": {
    "collapsed": true
   },
   "outputs": [],
   "source": [
    "# create instances of you objects here"
   ]
  },
  {
   "cell_type": "code",
   "execution_count": 3,
   "metadata": {
    "collapsed": true
   },
   "outputs": [],
   "source": [
    "# loop through your list here"
   ]
  },
  {
   "cell_type": "code",
   "execution_count": null,
   "metadata": {
    "collapsed": true
   },
   "outputs": [],
   "source": []
  }
 ],
 "metadata": {
  "kernelspec": {
   "display_name": "Python 3",
   "language": "python",
   "name": "python3"
  },
  "language_info": {
   "codemirror_mode": {
    "name": "ipython",
    "version": 3
   },
   "file_extension": ".py",
   "mimetype": "text/x-python",
   "name": "python",
   "nbconvert_exporter": "python",
   "pygments_lexer": "ipython3",
   "version": "3.5.1"
  }
 },
 "nbformat": 4,
 "nbformat_minor": 1
}

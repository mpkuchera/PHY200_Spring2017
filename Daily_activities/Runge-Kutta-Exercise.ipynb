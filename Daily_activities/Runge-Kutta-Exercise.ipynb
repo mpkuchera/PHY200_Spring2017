{
 "cells": [
  {
   "cell_type": "markdown",
   "metadata": {},
   "source": [
    "# Fourth-Order Runge-Kutta (RK4)\n",
    "\n",
    "### Consider the 2nd order Ordinary Differential Equation (ODE) for a non-linear pendulum:\n",
    "\n",
    "$$\\frac{d^2\\theta}{dt^2} = -\\frac{g}{l}\\sin{\\theta}$$\n",
    "\n",
    "### In the Markdown cell below, write this as two *first order* ODEs.\n",
    "### Write equations in LaTeX form by enclosing the equation in `$$ $$`\n",
    "**Note:** You can double click in this cell to reference how the above ODE was typed in Markdown/LaTeX"
   ]
  },
  {
   "cell_type": "markdown",
   "metadata": {},
   "source": []
  },
  {
   "cell_type": "code",
   "execution_count": null,
   "metadata": {
    "collapsed": true
   },
   "outputs": [],
   "source": [
    "# add you imports here\n",
    "%matplotlib inline\n",
    "\n",
    "from pylab import plot, show, axes"
   ]
  },
  {
   "cell_type": "code",
   "execution_count": null,
   "metadata": {
    "collapsed": true
   },
   "outputs": [],
   "source": [
    "g = 9.81 # m/s\n",
    "l = 1\n",
    "# define your function for your ODEs here\n",
    "# Reference pp 350 in your book if you need\n",
    "def f(r):\n",
    "    \n",
    "    return \n"
   ]
  },
  {
   "cell_type": "code",
   "execution_count": null,
   "metadata": {
    "collapsed": false
   },
   "outputs": [],
   "source": [
    "# define your fourth-order Runge-Kutta here\n",
    "# reference pp 345 in your book for this\n",
    "T = linspace(0,100,100)\n",
    "theta0 = pi/4 # initial angle\n",
    "omega0 = 0.0 # initial angular velocity\n",
    "xs = [] # for plotting\n",
    "ys = [] # for plotting\n",
    "r = array([theta0,omega0],float)\n",
    "\n",
    "xs.append(l*sin(r[0])) # for plotting\n",
    "ys.append(-l*cos(r[0])) # for plotting\n",
    "h = .01\n",
    "for t in T:\n",
    "\n",
    "    xs.append(l*sin(r[0]))\n",
    "    ys.append(-l*cos(r[0]))"
   ]
  },
  {
   "cell_type": "code",
   "execution_count": null,
   "metadata": {
    "collapsed": false
   },
   "outputs": [],
   "source": [
    "plot(xs,ys,'o')\n",
    "plot(0,0,'o')\n",
    "axes().set_aspect(\"equal\")\n",
    "show()"
   ]
  },
  {
   "cell_type": "code",
   "execution_count": null,
   "metadata": {
    "collapsed": true
   },
   "outputs": [],
   "source": []
  }
 ],
 "metadata": {
  "kernelspec": {
   "display_name": "Python 3",
   "language": "python",
   "name": "python3"
  },
  "language_info": {
   "codemirror_mode": {
    "name": "ipython",
    "version": 3
   },
   "file_extension": ".py",
   "mimetype": "text/x-python",
   "name": "python",
   "nbconvert_exporter": "python",
   "pygments_lexer": "ipython3",
   "version": "3.5.1"
  }
 },
 "nbformat": 4,
 "nbformat_minor": 0
}

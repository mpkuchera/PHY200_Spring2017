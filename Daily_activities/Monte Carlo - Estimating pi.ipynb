{
 "cells": [
  {
   "cell_type": "code",
   "execution_count": 100,
   "metadata": {},
   "outputs": [],
   "source": [
    "%matplotlib inline\n",
    "from random import random, seed, randrange\n",
    "from pylab import plot, axis\n",
    "from math import sqrt\n",
    "from datetime import datetime\n",
    "from time import clock"
   ]
  },
  {
   "cell_type": "code",
   "execution_count": 32,
   "metadata": {
    "collapsed": true
   },
   "outputs": [],
   "source": [
    "x = []\n",
    "y = []\n",
    "N = 100\n",
    "for i in range(N):\n",
    "    x.append(random())\n",
    "    y.append(random())"
   ]
  },
  {
   "cell_type": "code",
   "execution_count": 33,
   "metadata": {},
   "outputs": [
    {
     "data": {
      "text/plain": [
       "[<matplotlib.lines.Line2D at 0x113438630>]"
      ]
     },
     "execution_count": 33,
     "metadata": {},
     "output_type": "execute_result"
    },
    {
     "data": {
      "image/png": "[encoded data removed]",
      "text/plain": [
       "<matplotlib.figure.Figure at 0x113152f28>"
      ]
     },
     "metadata": {},
     "output_type": "display_data"
    }
   ],
   "source": [
    "plot(x,y,'.')"
   ]
  },
  {
   "cell_type": "code",
   "execution_count": 111,
   "metadata": {},
   "outputs": [
    {
     "name": "stdout",
     "output_type": "stream",
     "text": [
      "3.13824\n"
     ]
    },
    {
     "data": {
      "text/plain": [
       "(-0.54997698814746621,\n",
       " 0.54994702568600706,\n",
       " -0.54996703366678201,\n",
       " 0.549995487633406)"
      ]
     },
     "execution_count": 111,
     "metadata": {},
     "output_type": "execute_result"
    },
    {
     "data": {
      "image/png": "[encoded data removed]",
      "text/plain": [
       "<matplotlib.figure.Figure at 0x1031905c0>"
      ]
     },
     "metadata": {},
     "output_type": "display_data"
    }
   ],
   "source": [
    "N = 50000\n",
    "R = 0.5\n",
    "count_in = 0.0\n",
    "x_in = []\n",
    "y_in = []\n",
    "x_out = []\n",
    "y_out = []\n",
    "for i in range(N):\n",
    "    x = random()-0.5\n",
    "    y = random()-0.5\n",
    "    if(sqrt(x**2+y**2)< R):\n",
    "        count_in += 1\n",
    "        x_in.append(x)\n",
    "        y_in.append(y)\n",
    "    else:\n",
    "        x_out.append(x)\n",
    "        y_out.append(y)\n",
    "print(count_in/N/R**2)\n",
    "plot(x_in,y_in,'g.')\n",
    "plot(x_out,y_out,'.')\n",
    "axis(\"equal\")"
   ]
  },
  {
   "cell_type": "code",
   "execution_count": 109,
   "metadata": {
    "collapsed": true
   },
   "outputs": [],
   "source": [
    "def random_MPK(N):\n",
    "    t = clock()\n",
    "    print(t) \n",
    "    a = 1664525\n",
    "    c = 1013904223\n",
    "    m = 4294967296\n",
    "    x = float(t)\n",
    "    xs = []\n",
    "    for i in range(N):\n",
    "        x = (a*x+c)%m\n",
    "        xs.append(x/m)\n",
    "    return xs"
   ]
  },
  {
   "cell_type": "code",
   "execution_count": 106,
   "metadata": {},
   "outputs": [
    {
     "name": "stdout",
     "output_type": "stream",
     "text": [
      "570.144693\n",
      "570.144926\n"
     ]
    }
   ],
   "source": [
    "x = random_MPK(100)\n",
    "y = random_MPK(100)\n",
    "#print(x,y)"
   ]
  },
  {
   "cell_type": "code",
   "execution_count": 107,
   "metadata": {},
   "outputs": [
    {
     "data": {
      "text/plain": [
       "[<matplotlib.lines.Line2D at 0x11315f668>]"
      ]
     },
     "execution_count": 107,
     "metadata": {},
     "output_type": "execute_result"
    },
    {
     "data": {
      "image/png": "[encoded data removed]",
      "text/plain": [
       "<matplotlib.figure.Figure at 0x113152588>"
      ]
     },
     "metadata": {},
     "output_type": "display_data"
    }
   ],
   "source": [
    "plot(x,y,'.')"
   ]
  },
  {
   "cell_type": "code",
   "execution_count": null,
   "metadata": {
    "collapsed": true
   },
   "outputs": [],
   "source": []
  }
 ],
 "metadata": {
  "kernelspec": {
   "display_name": "Python 3",
   "language": "python",
   "name": "python3"
  },
  "language_info": {
   "codemirror_mode": {
    "name": "ipython",
    "version": 3
   },
   "file_extension": ".py",
   "mimetype": "text/x-python",
   "name": "python",
   "nbconvert_exporter": "python",
   "pygments_lexer": "ipython3",
   "version": "3.5.1"
  }
 },
 "nbformat": 4,
 "nbformat_minor": 1
}

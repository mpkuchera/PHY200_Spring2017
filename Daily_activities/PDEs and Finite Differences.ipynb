{
 "cells": [
  {
   "cell_type": "markdown",
   "metadata": {},
   "source": [
    "# Finite Difference Method\n",
    "\n",
    "1) Solve Laplace's Equation, $$\\nabla^2 \\phi = 0$$ for a square area of length 1cm and boundary conditions of $V = 0$ (grounded) on all sides except the top, which is biased to a potential difference of $V = 1$V relative to ground. \n",
    "\n",
    "    * Choose your number of points in each direction to be small (~$N=5$) while developing the code, since this algorithm is not fast. Once it is working, increase $N$\n",
    "    * If you would like to employ the Gauss-Seidel Method, which converges faster than the Jacobi method, think about array assignments in Python. They are pointers.\n",
    "\n",
    "\n",
    "2) Plot your results using a density plot.\n",
    "\n",
    "3) Optional: try adding a nonzero boundary condition to another side and running the code again."
   ]
  },
  {
   "cell_type": "code",
   "execution_count": null,
   "metadata": {
    "collapsed": true
   },
   "outputs": [],
   "source": [
    "# Feel free to use more cells than I have outlined here.\n",
    "# I am placing these comments only as a guide.\n",
    "\n",
    "## Place imports here"
   ]
  },
  {
   "cell_type": "code",
   "execution_count": null,
   "metadata": {
    "collapsed": true
   },
   "outputs": [],
   "source": [
    "## Place constants here"
   ]
  },
  {
   "cell_type": "code",
   "execution_count": null,
   "metadata": {
    "collapsed": true
   },
   "outputs": [],
   "source": [
    "## Define 2D arrays here"
   ]
  },
  {
   "cell_type": "code",
   "execution_count": null,
   "metadata": {
    "collapsed": true
   },
   "outputs": [],
   "source": [
    "## Add Finite Difference Method here"
   ]
  },
  {
   "cell_type": "code",
   "execution_count": null,
   "metadata": {
    "collapsed": true
   },
   "outputs": [],
   "source": [
    "## Add plotting methods here"
   ]
  },
  {
   "cell_type": "code",
   "execution_count": null,
   "metadata": {
    "collapsed": true
   },
   "outputs": [],
   "source": []
  }
 ],
 "metadata": {
  "kernelspec": {
   "display_name": "Python 3",
   "language": "python",
   "name": "python3"
  },
  "language_info": {
   "codemirror_mode": {
    "name": "ipython",
    "version": 3
   },
   "file_extension": ".py",
   "mimetype": "text/x-python",
   "name": "python",
   "nbconvert_exporter": "python",
   "pygments_lexer": "ipython3",
   "version": "3.5.1"
  }
 },
 "nbformat": 4,
 "nbformat_minor": 1
}

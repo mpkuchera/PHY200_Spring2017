{
 "cells": [
  {
   "cell_type": "markdown",
   "metadata": {},
   "source": [
    "# Object-Oriented Programming \n",
    "\n",
    "Below is the `particle` class that we created in class. Create a class that *inherits* from the particle class for massless particles. \n",
    "\n",
    "The user should create instances of this class like:\n",
    "\n",
    "`gamma = massless_particle(energy)`\n",
    "\n",
    "There should be a new attribute (variable) for the `massless_particle` class that stores the frequency of the massless particle."
   ]
  },
  {
   "cell_type": "code",
   "execution_count": 19,
   "metadata": {
    "collapsed": true
   },
   "outputs": [],
   "source": [
    "class particle(object):\n",
    "    def __init__(self, mass, charge, k_energy=0.0):\n",
    "        self.mass = mass\n",
    "        self.charge = charge\n",
    "        self.k_energy = k_energy\n",
    "        #rest_mass_energy\n",
    "        self.rest_mass_energy = 931*mass\n",
    "        self.energy = k_energy + self.rest_mass_energy\n",
    "        \n",
    "    def print_info(self):\n",
    "        print(\"This particle has: \\n\\t\\tmass: \",self.mass, \"u\")\n",
    "        print(\"\\t\\tcharge: \",self.charge, \"C\")\n",
    "        print(\"\\t\\tenergy:\", self.energy, \"MeV\")\n",
    "    \n",
    "    def excite(self, en):\n",
    "        self.k_energy += en\n",
    "        self.energy += en\n",
    "        "
   ]
  },
  {
   "cell_type": "code",
   "execution_count": 20,
   "metadata": {
    "collapsed": true
   },
   "outputs": [],
   "source": [
    "def fuse(part_a,part_b):\n",
    "    newp = particle(part_a.mass+part_b.mass,part_a.charge+part_b.charge,part_a.energy+part_b.energy)\n",
    "    return newp"
   ]
  },
  {
   "cell_type": "code",
   "execution_count": 21,
   "metadata": {
    "collapsed": true
   },
   "outputs": [],
   "source": [
    "proton = particle(1,1,5)\n",
    "neutron = particle(1,0,5)"
   ]
  },
  {
   "cell_type": "code",
   "execution_count": 22,
   "metadata": {},
   "outputs": [
    {
     "name": "stdout",
     "output_type": "stream",
     "text": [
      "This particle has: \n",
      "\t\tmass:  2 u\n",
      "\t\tcharge:  1 C\n",
      "\t\tenergy: 3734 MeV\n"
     ]
    }
   ],
   "source": [
    "helium = fuse(proton,neutron)\n",
    "helium.print_info()"
   ]
  },
  {
   "cell_type": "code",
   "execution_count": 23,
   "metadata": {},
   "outputs": [
    {
     "name": "stdout",
     "output_type": "stream",
     "text": [
      "This particle has: \n",
      "\t\tmass:  1 u\n",
      "\t\tcharge:  1 C\n",
      "\t\tenergy: 936 MeV\n",
      "This particle has: \n",
      "\t\tmass:  1 u\n",
      "\t\tcharge:  1 C\n",
      "\t\tenergy: 938 MeV\n"
     ]
    }
   ],
   "source": [
    "proton.print_info()\n",
    "proton.excite(2)\n",
    "proton.print_info()"
   ]
  },
  {
   "cell_type": "code",
   "execution_count": 103,
   "metadata": {
    "collapsed": true
   },
   "outputs": [],
   "source": [
    "          "
   ]
  },
  {
   "cell_type": "code",
   "execution_count": 113,
   "metadata": {
    "collapsed": true
   },
   "outputs": [],
   "source": [
    "\n",
    "    "
   ]
  },
  {
   "cell_type": "code",
   "execution_count": 114,
   "metadata": {
    "collapsed": true
   },
   "outputs": [],
   "source": []
  },
  {
   "cell_type": "code",
   "execution_count": 115,
   "metadata": {},
   "outputs": [
    {
     "name": "stdout",
     "output_type": "stream",
     "text": [
      "0.05\n"
     ]
    }
   ],
   "source": []
  },
  {
   "cell_type": "code",
   "execution_count": null,
   "metadata": {
    "collapsed": true
   },
   "outputs": [],
   "source": []
  }
 ],
 "metadata": {
  "kernelspec": {
   "display_name": "Python 3",
   "language": "python",
   "name": "python3"
  },
  "language_info": {
   "codemirror_mode": {
    "name": "ipython",
    "version": 3
   },
   "file_extension": ".py",
   "mimetype": "text/x-python",
   "name": "python",
   "nbconvert_exporter": "python",
   "pygments_lexer": "ipython3",
   "version": "3.5.1"
  }
 },
 "nbformat": 4,
 "nbformat_minor": 1
}

{
 "cells": [
  {
   "cell_type": "markdown",
   "metadata": {},
   "source": [
    "# Pillaging Pirates\n",
    "<img src=\"https://daks2k3a4ib2z.cloudfront.net/57a0ff743a6ecd142c81b565/57ac9aa2ec62b90517b210b4_Homepage-Ship.svg\" width=\"300\" alt=\"Pirate Ship\" />\n",
    "\n",
    "You are onboard a pirate ship that is planning to pillage a nearby ship. You need to shoot the cannonball so that it hits the opposing ship $200$m away.\n"
   ]
  },
  {
   "cell_type": "code",
   "execution_count": 2,
   "metadata": {
    "collapsed": true
   },
   "outputs": [],
   "source": [
    "#plot in the notebook\n",
    "%matplotlib inline\n",
    "\n",
    "#imports\n",
    "\n",
    "from numpy import array, linspace\n",
    "from math import pi, sqrt, cos, sin\n",
    "from pylab import plot, ylim, show\n",
    "\n"
   ]
  },
  {
   "cell_type": "code",
   "execution_count": 3,
   "metadata": {
    "collapsed": true
   },
   "outputs": [],
   "source": [
    "# constants\n",
    "\n",
    "R = .08 # Radius of cannonball\n",
    "m = 1. # mass of cannonball\n",
    "rho = 1.22 # mass density\n",
    "C = 0.47 # drag coefficient\n",
    "g = 9.81 # acceleration due to gravity\n"
   ]
  },
  {
   "cell_type": "code",
   "execution_count": 4,
   "metadata": {
    "collapsed": true
   },
   "outputs": [],
   "source": [
    "# equations of motion with air resistance\n",
    "def f(r):\n",
    "    vx = r[2] \n",
    "    vy = r[3] \n",
    "    dvx = -pi*R*R*rho*C*vx*sqrt(vx**2+vy**2)/(2*m)\n",
    "    dvy = -g-pi*R**2*rho*C*vy*sqrt(vx**2+vy**2)/(2*m)\n",
    "    return array([vx,vy,dvx,dvy],float)"
   ]
  },
  {
   "cell_type": "code",
   "execution_count": 5,
   "metadata": {
    "collapsed": true
   },
   "outputs": [],
   "source": [
    "# returns distance in meters. arguments are in m/s and degrees\n",
    "def distance(v0,theta0):\n",
    "    #xs = []\n",
    "    #ys = []  \n",
    "    r = array([0.0,0.0,v0*cos(theta0*pi/180),v0*sin(theta0*pi/180)])\n",
    "    #xs.append(r[0])\n",
    "    #ys.append(r[1])\n",
    "    h = 0.01\n",
    "    while r[1] >= 0:\n",
    "        h = 0.01\n",
    "        k1 = h*f(r)\n",
    "        k2 = h*f(r+0.5*k1)\n",
    "        k3 = h*f(r+0.5*k2)\n",
    "        k4 = h*f(r+k3)\n",
    "        r += (k1+2*k2+2*k3+k4)/6\n",
    "        #xs.append(r[0])\n",
    "        #ys.append(r[1]) \n",
    "    #plot(xs,ys)\n",
    "    #show()\n",
    "    return r[0] \n",
    "  \n"
   ]
  },
  {
   "cell_type": "code",
   "execution_count": 11,
   "metadata": {},
   "outputs": [
    {
     "name": "stdout",
     "output_type": "stream",
     "text": [
      "200.120651502\n"
     ]
    }
   ],
   "source": [
    "print(distance(100.0,15.190856158733368))"
   ]
  },
  {
   "cell_type": "code",
   "execution_count": 17,
   "metadata": {},
   "outputs": [
    {
     "name": "stdout",
     "output_type": "stream",
     "text": [
      "25.0 234.887373446\n",
      "err =  15.0\n",
      "17.5 211.249390111\n",
      "err =  7.5\n",
      "13.75 191.964010271\n",
      "err =  3.75\n",
      "15.625 202.143175739\n",
      "err =  1.875\n",
      "14.6875 197.192864069\n",
      "err =  0.9375\n",
      "15.15625 199.85013143\n",
      "err =  0.46875\n",
      "15.390625 201.150934902\n",
      "err =  0.234375\n",
      "15.2734375 200.355584398\n",
      "err =  0.1171875\n",
      "15.21484375 200.103267916\n",
      "err =  0.05859375\n",
      "15.185546875 199.828964921\n",
      "err =  0.029296875\n",
      "15.2001953125 200.113887756\n",
      "err =  0.0146484375\n",
      "15.19287109375 200.119192673\n",
      "err =  0.00732421875\n",
      "15.189208984375 199.826315361\n",
      "err =  0.003662109375\n",
      "15.1910400390625 200.120518382\n",
      "err =  0.0018310546875\n",
      "15.19012451171875 199.82565284\n",
      "err =  0.00091552734375\n",
      "15.190582275390625 199.825321561\n",
      "err =  0.000457763671875\n",
      "15.190811157226562 199.825155916\n",
      "err =  0.0002288818359375\n",
      "15.190925598144531 200.120601231\n",
      "err =  0.00011444091796875\n",
      "15.190868377685547 200.120642656\n",
      "err =  5.7220458984375e-05\n",
      "15.190839767456055 199.82513521\n",
      "err =  2.86102294921875e-05\n",
      "15.1908540725708 199.825124857\n",
      "err =  1.430511474609375e-05\n",
      "15.190861225128174 200.120647834\n",
      "err =  7.152557373046875e-06\n",
      "15.190857648849487 200.120650423\n",
      "err =  3.5762786865234375e-06\n",
      "15.190855860710144 199.825123563\n",
      "err =  1.7881393432617188e-06\n",
      "15.190856754779816 200.12065107\n",
      "err =  8.940696716308594e-07\n",
      "15.19085630774498 200.120651394\n",
      "err =  4.470348358154297e-07\n",
      "15.190856084227562 200.120651556\n",
      "err =  2.2351741790771484e-07\n",
      "15.190855972468853 199.825123482\n",
      "err =  1.1175870895385742e-07\n",
      "15.190856028348207 199.825123442\n",
      "err =  5.587935447692871e-08\n",
      "15.190856056287885 199.825123422\n",
      "err =  2.7939677238464355e-08\n",
      "15.190856070257723 199.825123411\n",
      "err =  1.3969838619232178e-08\n",
      "15.190856077242643 199.825123406\n",
      "err =  6.984919309616089e-09\n",
      "15.190856080735102\n"
     ]
    }
   ],
   "source": [
    "theta1 = 10.\n",
    "theta3 = 40.\n",
    "v0 = 100\n",
    "d_targ = 200\n",
    "d1 = distance(v0,theta1) - d_targ\n",
    "d3 = distance(v0,theta3) - d_targ\n",
    "accuracy = 1e-8\n",
    "while abs(theta3-theta1) > accuracy:\n",
    "    theta2 = 0.5*(theta1+theta3)\n",
    "    d2 = distance(v0,theta2)- d_targ\n",
    "    print(theta2,distance(v0,theta2))\n",
    "    if d1*d2<0:\n",
    "        theta3,d3 = theta2,d2\n",
    "    else:\n",
    "        theta1,d1 = theta2,d2\n",
    "    print( \"err = \",theta3-theta1)\n",
    "print(0.5*(theta1+theta3))"
   ]
  },
  {
   "cell_type": "code",
   "execution_count": null,
   "metadata": {
    "collapsed": true
   },
   "outputs": [],
   "source": []
  }
 ],
 "metadata": {
  "kernelspec": {
   "display_name": "Python 3",
   "language": "python",
   "name": "python3"
  },
  "language_info": {
   "codemirror_mode": {
    "name": "ipython",
    "version": 3
   },
   "file_extension": ".py",
   "mimetype": "text/x-python",
   "name": "python",
   "nbconvert_exporter": "python",
   "pygments_lexer": "ipython3",
   "version": "3.5.1"
  }
 },
 "nbformat": 4,
 "nbformat_minor": 1
}

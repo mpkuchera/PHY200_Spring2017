{
 "cells": [
  {
   "cell_type": "code",
   "execution_count": 116,
   "metadata": {
    "collapsed": true
   },
   "outputs": [],
   "source": [
    "class particle(object):\n",
    "    def __init__(self, mass, charge, k_energy=0.0):\n",
    "        self.mass = mass\n",
    "        self.charge = charge\n",
    "        self.k_energy = k_energy\n",
    "        #rest_mass_energy\n",
    "        self.rest_mass_energy = 931*mass\n",
    "        self.energy = k_energy + self.rest_mass_energy\n",
    "        \n",
    "    def print_info(self):\n",
    "        print(\"This particle has: \\n\\t\\tmass: \",self.mass, \"u\")\n",
    "        print(\"\\t\\tcharge: \",self.charge, \"C\")\n",
    "        print(\"\\t\\tenergy:\", self.energy, \"MeV\")\n",
    "        "
   ]
  },
  {
   "cell_type": "code",
   "execution_count": 117,
   "metadata": {},
   "outputs": [],
   "source": [
    "def fuse(part_a,part_b):\n",
    "    newp = particle(part_a.mass+part_b.mass,part_a.charge+part_b.charge,part_a.energy+part_b.energy)\n",
    "    return newp"
   ]
  },
  {
   "cell_type": "code",
   "execution_count": 118,
   "metadata": {},
   "outputs": [],
   "source": [
    "proton = particle(1,1,5)\n",
    "neutron = particle(1,0,5)"
   ]
  },
  {
   "cell_type": "code",
   "execution_count": 119,
   "metadata": {},
   "outputs": [],
   "source": [
    "helium = fuse(proton,neutron)"
   ]
  },
  {
   "cell_type": "code",
   "execution_count": 101,
   "metadata": {},
   "outputs": [
    {
     "name": "stdout",
     "output_type": "stream",
     "text": [
      "This particle has: \n",
      "\t\tmass:  2 u\n",
      "\t\tcharge:  1 C\n",
      "\t\tenergy: 3734 MeV\n"
     ]
    }
   ],
   "source": [
    "helium.print_info()"
   ]
  },
  {
   "cell_type": "code",
   "execution_count": 103,
   "metadata": {},
   "outputs": [],
   "source": [
    "class material(object):\n",
    "    def __init__(self,density, spec_heat):\n",
    "            self.density = density\n",
    "            self.spec_heat = spec_heat\n",
    "            "
   ]
  },
  {
   "cell_type": "code",
   "execution_count": 113,
   "metadata": {
    "collapsed": true
   },
   "outputs": [],
   "source": [
    "class conductor(material):\n",
    "    def __init__(self, dens, spec_heat, cond):\n",
    "        material.__init__(self, dens, spec_heat)\n",
    "        self.cond = cond\n",
    "        \n",
    "    "
   ]
  },
  {
   "cell_type": "code",
   "execution_count": 114,
   "metadata": {},
   "outputs": [],
   "source": [
    "c = conductor(1.2,1.11,.05)"
   ]
  },
  {
   "cell_type": "code",
   "execution_count": 115,
   "metadata": {},
   "outputs": [
    {
     "name": "stdout",
     "output_type": "stream",
     "text": [
      "0.05\n"
     ]
    }
   ],
   "source": [
    "print(c.cond)"
   ]
  },
  {
   "cell_type": "code",
   "execution_count": null,
   "metadata": {
    "collapsed": true
   },
   "outputs": [],
   "source": []
  }
 ],
 "metadata": {
  "kernelspec": {
   "display_name": "Python 3",
   "language": "python",
   "name": "python3"
  },
  "language_info": {
   "codemirror_mode": {
    "name": "ipython",
    "version": 3
   },
   "file_extension": ".py",
   "mimetype": "text/x-python",
   "name": "python",
   "nbconvert_exporter": "python",
   "pygments_lexer": "ipython3",
   "version": "3.5.1"
  }
 },
 "nbformat": 4,
 "nbformat_minor": 1
}

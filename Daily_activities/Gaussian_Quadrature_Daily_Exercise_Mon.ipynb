{
 "cells": [
  {
   "cell_type": "markdown",
   "metadata": {},
   "source": [
    "# Gaussian Quadrature Daily Exercise\n",
    "\n",
    "The following code uses gaussian quadrature to integrate: $$\\int_{-2}^2 4x^3-2x^2$$\n",
    "\n",
    "In the cell below, write down the analytical result to this integral."
   ]
  },
  {
   "cell_type": "code",
   "execution_count": null,
   "metadata": {
    "collapsed": true
   },
   "outputs": [],
   "source": []
  },
  {
   "cell_type": "code",
   "execution_count": 1,
   "metadata": {
    "collapsed": true
   },
   "outputs": [],
   "source": [
    "# import the external gaussxw function\n",
    "from gaussxw import gaussxw"
   ]
  },
  {
   "cell_type": "code",
   "execution_count": 2,
   "metadata": {},
   "outputs": [],
   "source": [
    "# the number of points of our function to sample\n",
    "N = 10\n",
    "# the following function returns the sample points and weights for Gauss-Legendre quadrature\n",
    "x,w = gaussxw(N)"
   ]
  },
  {
   "cell_type": "code",
   "execution_count": 3,
   "metadata": {},
   "outputs": [],
   "source": [
    "# defining our function\n",
    "def f(x):\n",
    "    return 4*x**3 - 2*x**2\n",
    "\n"
   ]
  },
  {
   "cell_type": "code",
   "execution_count": 4,
   "metadata": {},
   "outputs": [
    {
     "name": "stdout",
     "output_type": "stream",
     "text": [
      "-10.6666666667\n"
     ]
    }
   ],
   "source": [
    "\n",
    "a = -2.0 # lower integral limit \n",
    "b = 2.0 # upper integral limit\n",
    "\n",
    "xp = 0.5*(b-a)*x + 0.5*(b+a) # converting sample points from -1:1 to our interval\n",
    "wp = 0.5*(b-a)*w # converting weights from -1:1 to our interval\n",
    "s = 0.0\n",
    "for k in range(N):\n",
    "    s += wp[k]*f(xp[k])\n",
    "    \n",
    "print(s)"
   ]
  },
  {
   "cell_type": "markdown",
   "metadata": {},
   "source": [
    "1. How close to the exact answer did you get?\n",
    "2. Edit the above code to find the smallest `N` that gives an accurate result\n",
    "3. Below, use `gaussxw()` to evaluate $\\int_{-1}^1 3x(2x^7 + 2x^4 - 5) dx$ and compare it to the analytical answer"
   ]
  },
  {
   "cell_type": "code",
   "execution_count": null,
   "metadata": {
    "collapsed": true
   },
   "outputs": [],
   "source": []
  },
  {
   "cell_type": "code",
   "execution_count": null,
   "metadata": {},
   "outputs": [],
   "source": []
  },
  {
   "cell_type": "code",
   "execution_count": null,
   "metadata": {
    "collapsed": true
   },
   "outputs": [],
   "source": []
  },
  {
   "cell_type": "code",
   "execution_count": null,
   "metadata": {
    "collapsed": true
   },
   "outputs": [],
   "source": []
  }
 ],
 "metadata": {
  "anaconda-cloud": {},
  "kernelspec": {
   "display_name": "Python 3",
   "language": "python",
   "name": "python3"
  },
  "language_info": {
   "codemirror_mode": {
    "name": "ipython",
    "version": 3
   },
   "file_extension": ".py",
   "mimetype": "text/x-python",
   "name": "python",
   "nbconvert_exporter": "python",
   "pygments_lexer": "ipython3",
   "version": "3.5.1"
  }
 },
 "nbformat": 4,
 "nbformat_minor": 1
}

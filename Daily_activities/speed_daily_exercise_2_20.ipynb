{
 "cells": [
  {
   "cell_type": "markdown",
   "metadata": {},
   "source": [
    "## Good programming practice for compute speed:\n",
    "\n",
    "1. Define variables outside loops when possible\n",
    "2. Calculate a quantity only once if used more than once\n",
    "\n",
    "To explore this, let's look at the Quantum Harmonic Oscillator at Finite Temperature. This is Example 4.2 in your book, but please don't reference your book while working on the daily exercise in class.\n",
    "\n",
    "The quantum simple harmonic oscillator has energy levels at $E_n = \\hbar\\omega(n+\\frac{1}{2})$, where $n = 0,1,2,...,\\infty$\n",
    "\n",
    "The average energy of a simple harmonic oscillator at temperature $T$ is:\n",
    "\n",
    "$$\\langle E \\rangle = \\frac{1}{Z} \\sum_{n=0}^{\\infty}E_n e^{-\\beta E_n}$$\n",
    "where $\\beta = \\frac{1}{k_BT}$, and $Z = \\sum_{n=0}^{\\infty}e^{-\\beta E_n}$.\n",
    "\n",
    "Write code to calculate an approximate value for $\\langle E \\rangle$ when $k_BT = 100$, keeping in mind the speed considerations above. You can assume $\\hbar = \\omega = 1$ for this calculation."
   ]
  },
  {
   "cell_type": "code",
   "execution_count": 1,
   "metadata": {
    "collapsed": false
   },
   "outputs": [],
   "source": [
    "#import packages here"
   ]
  },
  {
   "cell_type": "code",
   "execution_count": null,
   "metadata": {
    "collapsed": false
   },
   "outputs": [],
   "source": []
  },
  {
   "cell_type": "code",
   "execution_count": null,
   "metadata": {
    "collapsed": false
   },
   "outputs": [],
   "source": [
    "\n"
   ]
  },
  {
   "cell_type": "markdown",
   "metadata": {},
   "source": [
    "### How many iterations do you need for a reasonable answer? How did you determine this? Write your response in the cell below my changing it to a Markdown cell"
   ]
  },
  {
   "cell_type": "code",
   "execution_count": null,
   "metadata": {
    "collapsed": true
   },
   "outputs": [],
   "source": []
  },
  {
   "cell_type": "markdown",
   "metadata": {
    "collapsed": false
   },
   "source": [
    "### In Jupyter we can use \"magic commmands\", which are denoted by ```%```\n",
    "We have seen one example of these with the Jupyter command ```%matplotlib inline```, which indicates that we want to render our plots inside of the notebook.\n",
    "\n",
    "### The magic command ```%timeit``` is a great way to time code in Jupyter. It will time a specific line, and execute the line as many times as needed to get sufficient timing information.\n",
    "\n",
    "### By adding ```%%timeit``` to the beginning of a code cell, the code will time the entire cell.\n",
    "\n",
    "### Now, try creating a cell of code to sum floats and another to sum integers. Time the two code cells and compare the results. \n",
    "\n"
   ]
  },
  {
   "cell_type": "code",
   "execution_count": null,
   "metadata": {
    "collapsed": true
   },
   "outputs": [],
   "source": []
  },
  {
   "cell_type": "code",
   "execution_count": null,
   "metadata": {
    "collapsed": false
   },
   "outputs": [],
   "source": []
  },
  {
   "cell_type": "markdown",
   "metadata": {
    "collapsed": true
   },
   "source": [
    "### What happens to the timing if you print the current value of your sum at each iteration?"
   ]
  },
  {
   "cell_type": "code",
   "execution_count": null,
   "metadata": {
    "collapsed": true
   },
   "outputs": [],
   "source": []
  },
  {
   "cell_type": "markdown",
   "metadata": {},
   "source": [
    "Type your observations here."
   ]
  },
  {
   "cell_type": "code",
   "execution_count": null,
   "metadata": {
    "collapsed": true
   },
   "outputs": [],
   "source": []
  },
  {
   "cell_type": "code",
   "execution_count": null,
   "metadata": {
    "collapsed": true
   },
   "outputs": [],
   "source": []
  }
 ],
 "metadata": {
  "kernelspec": {
   "display_name": "Python 3",
   "language": "python",
   "name": "python3"
  },
  "language_info": {
   "codemirror_mode": {
    "name": "ipython",
    "version": 3
   },
   "file_extension": ".py",
   "mimetype": "text/x-python",
   "name": "python",
   "nbconvert_exporter": "python",
   "pygments_lexer": "ipython3",
   "version": "3.5.1"
  }
 },
 "nbformat": 4,
 "nbformat_minor": 0
}

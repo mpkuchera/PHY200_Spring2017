{
 "cells": [
  {
   "cell_type": "markdown",
   "metadata": {},
   "source": [
    "## Relaxation Method\n",
    "$$x = 2x + 4$$\n",
    "gives:\n",
    "$$x = -4$$\n",
    "But what if we can't solve for x?\n",
    "I.e.\n",
    "$$x = 2 - e^x$$"
   ]
  },
  {
   "cell_type": "code",
   "execution_count": 10,
   "metadata": {
    "collapsed": false
   },
   "outputs": [
    {
     "name": "stdout",
     "output_type": "stream",
     "text": [
      "x = 2*x + 4:\n",
      "6.0\n",
      "16.0\n",
      "36.0\n",
      "76.0\n",
      "156.0\n",
      "316.0\n",
      "636.0\n",
      "1276.0\n",
      "2556.0\n",
      "5116.0\n",
      "\n",
      "\n",
      "x = (x - 4)/2:\n",
      "2556.0\n",
      "1276.0\n",
      "636.0\n",
      "316.0\n",
      "156.0\n",
      "76.0\n",
      "36.0\n",
      "16.0\n",
      "6.0\n",
      "1.0\n"
     ]
    }
   ],
   "source": [
    "x = 1.0\n",
    "N = 10\n",
    "print(\"x = 2*x + 4:\")\n",
    "for i in range(N):\n",
    "    x = 2*x + 4\n",
    "    print(x)\n",
    "\n",
    "print(\"\\n\\nx = (x - 4)/2:\")\n",
    "for i in range(N):\n",
    "    x = (x-4)/2\n",
    "    print(x)"
   ]
  },
  {
   "cell_type": "code",
   "execution_count": 13,
   "metadata": {
    "collapsed": false
   },
   "outputs": [
    {
     "name": "stdout",
     "output_type": "stream",
     "text": [
      "1.6321205588285577\n",
      "1.8044854658474119\n",
      "1.8354408939220457\n",
      "1.8404568553435368\n",
      "1.841255113911434\n",
      "1.8413817828128696\n",
      "1.8414018735357267\n",
      "1.8414050598547234\n",
      "1.8414055651879888\n",
      "1.8414056453310121\n"
     ]
    }
   ],
   "source": [
    "from math import exp\n",
    "x = 1.0\n",
    "N = 10\n",
    "\n",
    "for i in range(N):\n",
    "    x = 2 - exp(-x)\n",
    "    print(x)"
   ]
  },
  {
   "cell_type": "code",
   "execution_count": null,
   "metadata": {
    "collapsed": true
   },
   "outputs": [],
   "source": []
  }
 ],
 "metadata": {
  "kernelspec": {
   "display_name": "Python 3",
   "language": "python",
   "name": "python3"
  },
  "language_info": {
   "codemirror_mode": {
    "name": "ipython",
    "version": 3
   },
   "file_extension": ".py",
   "mimetype": "text/x-python",
   "name": "python",
   "nbconvert_exporter": "python",
   "pygments_lexer": "ipython3",
   "version": "3.5.1"
  }
 },
 "nbformat": 4,
 "nbformat_minor": 0
}

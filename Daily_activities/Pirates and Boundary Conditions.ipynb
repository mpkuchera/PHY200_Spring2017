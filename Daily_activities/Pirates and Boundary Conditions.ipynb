{
 "cells": [
  {
   "cell_type": "markdown",
   "metadata": {},
   "source": [
    "# Pillaging Pirates\n",
    "<img src=\"https://daks2k3a4ib2z.cloudfront.net/57a0ff743a6ecd142c81b565/57ac9aa2ec62b90517b210b4_Homepage-Ship.svg\" width=\"300\" alt=\"Pirate Ship\" />\n",
    "\n",
    "You are onboard a pirate ship that is planning to pillage a nearby ship. You need to shoot the cannonball so that it hits the opposing ship $200$m away.\n",
    "\n",
    "Use the shooting method to determine the initial angle, in degrees, that the pirates must set their cannon to, if they have enough gunpowder to emit the cannonball at a speed of $100 \\frac{m}{s}$.\n",
    "\n",
    "Below, you will find the code from the homework problem of shooting a cannon. \n",
    "\n",
    "You can take the motion of the water to be negligable.\n"
   ]
  },
  {
   "cell_type": "code",
   "execution_count": null,
   "metadata": {
    "collapsed": true
   },
   "outputs": [],
   "source": [
    "#plot in the notebook\n",
    "%matplotlib inline\n",
    "\n",
    "#imports\n",
    "\n",
    "from numpy import array, linspace\n",
    "from math import pi, sqrt, cos, sin\n",
    "from pylab import plot, ylim, show\n",
    "\n"
   ]
  },
  {
   "cell_type": "code",
   "execution_count": null,
   "metadata": {
    "collapsed": true
   },
   "outputs": [],
   "source": [
    "# constants\n",
    "\n",
    "R = .08 # Radius of cannonball\n",
    "m = 1. # mass of cannonball\n",
    "rho = 1.22 # mass density\n",
    "C = 0.47 # drag coefficient\n",
    "g = 9.81 # acceleration due to gravity\n"
   ]
  },
  {
   "cell_type": "code",
   "execution_count": null,
   "metadata": {
    "collapsed": true
   },
   "outputs": [],
   "source": [
    "# equations of motion with air resistance\n",
    "def f(r):\n",
    "    vx = r[2] \n",
    "    vy = r[3] \n",
    "    dvx = -pi*R*R*rho*C*vx*sqrt(vx**2+vy**2)/(2*m)\n",
    "    dvy = -g-pi*R*R*rho*C*vy*sqrt(vx**2+vy**2)/(2*m)\n",
    "    return array([vx,vy,dvx,dvy],float)"
   ]
  },
  {
   "cell_type": "code",
   "execution_count": null,
   "metadata": {},
   "outputs": [],
   "source": [
    "# returns distance in meters. arguments are in m/s and degrees\n",
    "def distance(v0,theta0):\n",
    "    #xs = []\n",
    "    #ys = []  \n",
    "    r = array([0.0,0.0,v0*cos(theta0*pi/180),v0*sin(theta0*pi/180)])\n",
    "    #xs.append(r[0])\n",
    "    #ys.append(r[1])\n",
    "    h = 0.01\n",
    "    while r[1] >= 0:\n",
    "        h = 0.01\n",
    "        k1 = h*f(r)\n",
    "        k2 = h*f(r+0.5*k1)\n",
    "        k3 = h*f(r+0.5*k2)\n",
    "        k4 = h*f(r+k3)\n",
    "        r += (k1+2*k2+2*k3+k4)/6\n",
    "        #xs.append(r[0])\n",
    "        #ys.append(r[1]) \n",
    "    #plot(xs,ys)\n",
    "    #show()\n",
    "    return r[0] \n",
    "  \n"
   ]
  },
  {
   "cell_type": "code",
   "execution_count": null,
   "metadata": {},
   "outputs": [],
   "source": []
  },
  {
   "cell_type": "code",
   "execution_count": null,
   "metadata": {},
   "outputs": [],
   "source": []
  },
  {
   "cell_type": "code",
   "execution_count": null,
   "metadata": {
    "collapsed": true
   },
   "outputs": [],
   "source": []
  }
 ],
 "metadata": {
  "kernelspec": {
   "display_name": "Python 3",
   "language": "python",
   "name": "python3"
  },
  "language_info": {
   "codemirror_mode": {
    "name": "ipython",
    "version": 3
   },
   "file_extension": ".py",
   "mimetype": "text/x-python",
   "name": "python",
   "nbconvert_exporter": "python",
   "pygments_lexer": "ipython3",
   "version": "3.5.1"
  }
 },
 "nbformat": 4,
 "nbformat_minor": 1
}

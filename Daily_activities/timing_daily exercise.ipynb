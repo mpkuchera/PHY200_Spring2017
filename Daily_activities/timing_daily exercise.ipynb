{
 "cells": [
  {
   "cell_type": "markdown",
   "metadata": {},
   "source": [
    "## Good programming practice for compute speed:\n",
    "\n",
    "1. Define variables outside loops when possible\n",
    "2. Calculate a quantity only once if used more than once\n",
    "\n",
    "To explore this, let's look at the Quantum Harmonic Oscillator at Finite Temperature. This is Example 4.2 in your book, but please don't reference your book while working on the daily exercise in class.\n",
    "\n",
    "The quantum simple harmonic oscillator has energy levels at $E_n = \\hbar\\omega(n+\\frac{1}{2})$, where $n = 0,1,2,...,\\infty$\n",
    "\n",
    "The average energy of a simple harmonic oscillator at temperature $T$ is:\n",
    "\n",
    "$$\\langle E \\rangle = \\frac{1}{Z} \\sum_{n=0}^{\\infty}E_n e^{-\\beta E_n}$$\n",
    "where $\\beta = \\frac{1}{k_BT}$, and $Z = \\sum_{n=0}^{\\infty}e^{-\\beta E_n}$.\n",
    "\n",
    "Write code to calculate an approximate value for $\\langle E \\rangle$ when $k_BT = 100$, keeping in mind the speed considerations above. You can assume $\\hbar = \\omega = 1$ for this calculation."
   ]
  },
  {
   "cell_type": "code",
   "execution_count": 2,
   "metadata": {
    "collapsed": false
   },
   "outputs": [],
   "source": [
    "from math import exp\n",
    "from numpy import zeros\n",
    "from pylab import plot"
   ]
  },
  {
   "cell_type": "code",
   "execution_count": 7,
   "metadata": {
    "collapsed": false
   },
   "outputs": [
    {
     "name": "stdout",
     "output_type": "stream",
     "text": [
      "[      100       500      2500     12500     62500    312500   1562500\n",
      "   7812500  39062500 195312500]\n"
     ]
    }
   ],
   "source": [
    "En = 0.0\n",
    "Z = 0.0\n",
    "kT = 100\n",
    "\n",
    "E = zeros(10,float)\n",
    "count = 0\n",
    "a = zeros(len(E),int)\n",
    "a[0] = 100\n",
    "for i in range(1,len(a)):\n",
    "    a[i] = a[i-1]*5\n",
    "print(a)\n",
    "for i in range(len(a)):\n",
    "    for n in range(a[i]):\n",
    "        En = n + 0.5\n",
    "        E[i] += En*exp(-En/kT)\n",
    "        Z += exp(-En/kT)\n",
    "        #Z = 1\n",
    "    E[count] = E[count]/Z\n",
    "    count += 1"
   ]
  },
  {
   "cell_type": "code",
   "execution_count": 4,
   "metadata": {
    "collapsed": false
   },
   "outputs": [
    {
     "data": {
      "text/plain": [
       "[<matplotlib.lines.Line2D at 0x10f515b00>]"
      ]
     },
     "execution_count": 4,
     "metadata": {},
     "output_type": "execute_result"
    },
    {
     "data": {
      "image/png": "[encoded data removed]",
      "text/plain": [
       "<matplotlib.figure.Figure at 0x10a664278>"
      ]
     },
     "metadata": {},
     "output_type": "display_data"
    }
   ],
   "source": [
    "%matplotlib inline\n",
    "plot(E)"
   ]
  },
  {
   "cell_type": "markdown",
   "metadata": {},
   "source": [
    "### How many iterations do you need for a reasonable answer? How did you determine this? Write your response in the cell below my changing it to a Markdown cell"
   ]
  },
  {
   "cell_type": "code",
   "execution_count": null,
   "metadata": {
    "collapsed": true
   },
   "outputs": [],
   "source": []
  },
  {
   "cell_type": "code",
   "execution_count": null,
   "metadata": {
    "collapsed": false
   },
   "outputs": [],
   "source": [
    "%%timeit\n",
    "N = 100\n",
    "\n",
    "j=0\n",
    "for i in range(N):\n",
    "    j+=i\n",
    "    print(j)\n",
    "print(j)"
   ]
  },
  {
   "cell_type": "code",
   "execution_count": null,
   "metadata": {
    "collapsed": false
   },
   "outputs": [],
   "source": [
    "%%timeit\n",
    "N = 100\n",
    "\n",
    "j=0.0\n",
    "for i in range(N):\n",
    "    j+=i\n",
    "    print(j)\n",
    "print(j)"
   ]
  },
  {
   "cell_type": "code",
   "execution_count": null,
   "metadata": {
    "collapsed": true
   },
   "outputs": [],
   "source": []
  }
 ],
 "metadata": {
  "kernelspec": {
   "display_name": "Python 3",
   "language": "python",
   "name": "python3"
  },
  "language_info": {
   "codemirror_mode": {
    "name": "ipython",
    "version": 3
   },
   "file_extension": ".py",
   "mimetype": "text/x-python",
   "name": "python",
   "nbconvert_exporter": "python",
   "pygments_lexer": "ipython3",
   "version": "3.5.1"
  }
 },
 "nbformat": 4,
 "nbformat_minor": 0
}

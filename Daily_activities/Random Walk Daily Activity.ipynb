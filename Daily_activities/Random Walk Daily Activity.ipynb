{
 "cells": [
  {
   "cell_type": "markdown",
   "metadata": {},
   "source": [
    "# Brownian Motion\n",
    "\n",
    "The observation of Brownian Motion by a botanist led Einstein to conclude that this effect is exerimental evidence that matter is made up of discrete particles, supporting the existence of atoms and molecules. \n",
    "\n",
    "Observe the particles undergoing Brownian Motion in the video below. Choose one particle, and try to track its path over time. Then choose another and do the same. This seemingly random motion of particles is called Brownian Motion, and we can model this with a random walk.\n"
   ]
  },
  {
   "cell_type": "code",
   "execution_count": 1,
   "metadata": {},
   "outputs": [
    {
     "data": {
      "image/jpeg": "[encoded data removed]",
      "text/html": [
       "\n",
       "        <iframe\n",
       "            width=\"400\"\n",
       "            height=\"300\"\n",
       "            src=\"https://www.youtube.com/embed/cDcprgWiQEY\"\n",
       "            frameborder=\"0\"\n",
       "            allowfullscreen\n",
       "        ></iframe>\n",
       "        "
      ],
      "text/plain": [
       "<IPython.lib.display.YouTubeVideo at 0x1043b75c0>"
      ]
     },
     "execution_count": 1,
     "metadata": {},
     "output_type": "execute_result"
    }
   ],
   "source": [
    "from IPython.display import YouTubeVideo\n",
    "YouTubeVideo(\"cDcprgWiQEY\")"
   ]
  },
  {
   "cell_type": "markdown",
   "metadata": {},
   "source": [
    "## To Do:\n",
    "### Model a 2-dimensional random walk, starting at $(x_{0},y_0) = (0,0)$.\n",
    "   \n",
    "   * Have the particle evolve for $N = 1000$ iterations.\n",
    "   * Use a normal (Gaussian distribution) with a mean of zero and a standard deviation of 0.632 to generate next point.\n",
    "   * Plot the particle's path \n",
    "   * Repeat this procedure for 10 different possible paths a particle starting at $(0,0)$ may take. Plot these paths on a single plot.\n",
    "\n",
    "\n",
    "You do not have to write your own function to sample from a Gaussian distribution. A normal (Gaussian) distribution called `normal` can be called from the `numpy.random package`."
   ]
  },
  {
   "cell_type": "code",
   "execution_count": null,
   "metadata": {
    "collapsed": true
   },
   "outputs": [],
   "source": [
    "# place imports here\n",
    "%matplotlib inline\n"
   ]
  },
  {
   "cell_type": "code",
   "execution_count": null,
   "metadata": {},
   "outputs": [],
   "source": [
    "# place code here\n"
   ]
  },
  {
   "cell_type": "code",
   "execution_count": null,
   "metadata": {
    "collapsed": true
   },
   "outputs": [],
   "source": [
    "# add plotting methods here\n"
   ]
  }
 ],
 "metadata": {
  "kernelspec": {
   "display_name": "Python 3",
   "language": "python",
   "name": "python3"
  },
  "language_info": {
   "codemirror_mode": {
    "name": "ipython",
    "version": 3
   },
   "file_extension": ".py",
   "mimetype": "text/x-python",
   "name": "python",
   "nbconvert_exporter": "python",
   "pygments_lexer": "ipython3",
   "version": "3.5.1"
  }
 },
 "nbformat": 4,
 "nbformat_minor": 1
}

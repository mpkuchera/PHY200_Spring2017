{
 "cells": [
  {
   "cell_type": "markdown",
   "metadata": {},
   "source": [
    "# Leapfrog Daily Exercise\n",
    "\n",
    "## Today, we will implement the nonlinear pendulum using the Leapfrog method and compare the results with the Runge-Kutta results from last week\n",
    "\n",
    "### Below is the Runge-Kutta code for the non-linear pendulum from last week's Daily Activity. I added in two plots: x vs t and y vs t.\n",
    "\n",
    "## Your task: implement the leapfrog method and generate the same plots. In a cell below your work, make notes on your observations. \n",
    "\n",
    "As a reminder, we are solving the 2nd order Ordinary Differential Equation (ODE) for a non-linear pendulum:\n",
    "\n",
    "$$\\frac{d^2\\theta}{dt^2} = -\\frac{g}{l}\\sin{\\theta}$$"
   ]
  },
  {
   "cell_type": "code",
   "execution_count": null,
   "metadata": {
    "collapsed": true
   },
   "outputs": [],
   "source": [
    "%matplotlib inline\n",
    "from math import sin, pi,cos\n",
    "from numpy import linspace, array\n",
    "from pylab import plot, show, axes"
   ]
  },
  {
   "cell_type": "code",
   "execution_count": null,
   "metadata": {
    "collapsed": true
   },
   "outputs": [],
   "source": [
    "g = 9.81 # m/s\n",
    "l = 1\n",
    "# define your function for your ODEs here\n",
    "# Reference pp 350 in your book if you need\n",
    "def f(r):\n",
    "    theta = r[0]\n",
    "    omega = r[1]\n",
    "    dtheta = omega\n",
    "    domega = -g/l * sin(theta)\n",
    "    return array([dtheta,domega],float)"
   ]
  },
  {
   "cell_type": "code",
   "execution_count": null,
   "metadata": {
    "collapsed": false
   },
   "outputs": [],
   "source": [
    "# define your fourth-order Runge-Kutta here\n",
    "# reference pp 345 in your book for this\n",
    "T = linspace(0,100,1000)\n",
    "theta0 = pi/4\n",
    "omega0 = 0.0\n",
    "xs = []\n",
    "ys = []\n",
    "r = array([theta0,omega0],float)\n",
    "xs.append(l*sin(r[0]))\n",
    "ys.append(-l*cos(r[0]))\n",
    "h = .1\n",
    "for t in T:\n",
    "    k1 = h*f(r)\n",
    "    k2 = h*f(r+0.5*k1)\n",
    "    k3 = h*f(r+0.5*k2)\n",
    "    k4 = h*f(r+k3)\n",
    "    r+= (k1+k2+2*k3+k4)/6\n",
    "    xs.append(l*sin(r[0]))\n",
    "    ys.append(-l*cos(r[0]))"
   ]
  },
  {
   "cell_type": "code",
   "execution_count": null,
   "metadata": {
    "collapsed": false
   },
   "outputs": [],
   "source": [
    "plot(xs,ys,'o')\n",
    "plot(0,0,'o')\n",
    "axes().set_aspect(\"equal\")\n",
    "show()"
   ]
  },
  {
   "cell_type": "code",
   "execution_count": null,
   "metadata": {
    "collapsed": false
   },
   "outputs": [],
   "source": [
    "print(len(T), len(xs))\n",
    "plot(T,xs[:-1])\n",
    "show()\n",
    "plot(T,ys[:-1])"
   ]
  },
  {
   "cell_type": "code",
   "execution_count": null,
   "metadata": {
    "collapsed": false
   },
   "outputs": [],
   "source": [
    "## add your leapfrog code in the following cells. \n",
    "# You can use the code above, including f(r). \n",
    "# The RK4 algorithm may be a nice wireframe for your work"
   ]
  },
  {
   "cell_type": "code",
   "execution_count": null,
   "metadata": {
    "collapsed": false
   },
   "outputs": [],
   "source": []
  },
  {
   "cell_type": "code",
   "execution_count": null,
   "metadata": {
    "collapsed": false
   },
   "outputs": [],
   "source": []
  },
  {
   "cell_type": "code",
   "execution_count": null,
   "metadata": {
    "collapsed": false
   },
   "outputs": [],
   "source": [
    "\n",
    "\n",
    "plot(xs2,ys2,'o')\n",
    "plot(0,0,'o')\n",
    "axes().set_aspect(\"equal\")\n",
    "show()"
   ]
  },
  {
   "cell_type": "code",
   "execution_count": null,
   "metadata": {
    "collapsed": false
   },
   "outputs": [],
   "source": [
    "plot(T,xs2[:-1])\n",
    "show()\n",
    "plot(T,ys2[:-1])"
   ]
  },
  {
   "cell_type": "code",
   "execution_count": null,
   "metadata": {
    "collapsed": true
   },
   "outputs": [],
   "source": []
  },
  {
   "cell_type": "code",
   "execution_count": null,
   "metadata": {
    "collapsed": true
   },
   "outputs": [],
   "source": []
  }
 ],
 "metadata": {
  "kernelspec": {
   "display_name": "Python 3",
   "language": "python",
   "name": "python3"
  },
  "language_info": {
   "codemirror_mode": {
    "name": "ipython",
    "version": 3
   },
   "file_extension": ".py",
   "mimetype": "text/x-python",
   "name": "python",
   "nbconvert_exporter": "python",
   "pygments_lexer": "ipython3",
   "version": "3.5.1"
  }
 },
 "nbformat": 4,
 "nbformat_minor": 0
}

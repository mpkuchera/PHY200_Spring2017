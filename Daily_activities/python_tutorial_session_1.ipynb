{
 "cells": [
  {
   "cell_type": "markdown",
   "metadata": {
    "collapsed": false
   },
   "source": [
    "### Important note before you begin!\n",
    "\n",
    "If in the course of completeing this tutorial there is something you don't understand or something you'd like to learn more about, you are *highly* encouraged to do some searching online to find other explanations and dig deeper.  There are an enormous number of amazing Python resources you will find by searching about basic concepts in Python.\n",
    "\n",
    "This notebook was created by Josh Samani who would greatly appreciate your feedback on how it can be improved.  Feel free to send your feedback to:\n",
    "\n",
    "jsamani@physics.ucla.edu.\n",
    "\n",
    "# After working through this notebook, you should be able to...\n",
    "\n",
    "1. Navigate the Jupyter notebook interface (which is where you are right now) and use it to \n",
    "    1. Write text like the text you're reading right now.\n",
    "    2. Write python code\n",
    "    3. Run python code\n",
    "2. Articulate the difference between three types of numbers in Python: int, float, and complex, and appropriately using these typs of numbers to perform mathematical computations.\n",
    "3. Use Python to perform basic operations on numbers such as addition, subtracttion, multiplication, division, and powers.\n",
    "4. Construct variables that can be assigned values.\n",
    "5. Use comparison operators (e.g. less than, equal to, greater than) and logical statements to control the flow of a program.\n",
    "6. Use \"for loops\" and \"while loops\" to code algorithms that repetitively follow and execute a sequence of instructions.\n",
    "7. Define your own Python functions that can be used again and again to perform specialized tasks and make code more modular.\n",
    "\n",
    "# What is this interface you're currently using?\n",
    "\n",
    "You have opened a [Jupyter](http://jupyter.org/) notebook (formerly called an IPython notebook), a powerful interface for working with Python and other programming languages (including [Julia](http://julialang.org/) and [R](https://www.r-project.org/)).\n",
    "\n",
    "We will focus in this course on using Jupyter to run Python code.\n",
    "\n",
    "The Jupyter notebook allows one to \n",
    "\n",
    "- rapidly experiment with code\n",
    "- write nicely typeset paragraphs using a [markup language](https://en.wikipedia.org/wiki/Markup_language) called [markdown](https://en.wikipedia.org/wiki/Markdown) and mathematics with [LaTeX](https://www.latex-project.org/)\n",
    "- embed images, videos, widgets, and more.\n",
    "\n",
    "Jupyter notebooks are organized into **cells**.  In fact, this text is written inside of a cell.  Each cell can contain all sorts of things:\n",
    "\n",
    "1. Python code that one wants to run.\n",
    "2. Text one might want to write to explain the code or anything else.\n",
    "3. Images or videos one might want to display.\n",
    "4. Tons of other cool stuff that we won't get into much in this tutorial.\n",
    "\n",
    "**Dig Deeper.** [A Gallery of interesting IPython notebooks](https://github.com/ipython/ipython/wiki/A-gallery-of-interesting-IPython-Notebooks).\n",
    "\n",
    "Each cell starts as a coding cell by default.  This means that you can write and run code in that cell, but before you begin to code, you need to tell the notebook which language you want to code in by choosing a \"kernel\" in the Kernel menu at the top of the notebook.  Since we'll be coding in Python, we want to make sure to choose a Python kernel.  We will actually be working with Python 3, the latest version of Python, so navigate to the menu at the top of this notebook and select\n",
    "\n",
    "> Kernel > Change kernel > Python 3\n",
    "\n",
    "In the upper right corner of the notbook, you should now see \"Python 3\" with an open (not filled-in) circle next to it.  Later, we'll see that the circle gets filled-in when the notebook is in the process of running code in a cell.\n",
    "\n",
    "To change the character of a cell from, say, a coding cell to markdown cell (or any other type of cell), one can enter **command mode** by pressing the <kbd>Esc</kbd> key.  Once you've pressed <kbd>Esc</kbd> to enter command mode, you can change the character of the cell by pressing another key right afterward.  For example, if you want to write text or mathematics as an explanation, then you can press the <kbd>m</kbd> key after having entered command mode.  This will change the cell to a **markdown** cell.  As mentioned above, markdown is a language for writing text. If you want to see an example of markdown syntax, double click on this cell which is itself a markdown cell, and you'll be able to see that, for example, headings are written by putting `#` characters before them, and **boldfaced text** is obtained with double asterisks.  You can return the cell to its original state by putting your cursor somewhere in the cell and then pressing <kbd>Shift</kbd>+<kbd>Enter</kbd>.\n",
    "\n",
    "In command mode, one can actually do lots of other things using keyboard shortcuts as well.  To see a list of them, go to \n",
    "\n",
    "> Help > Keyboard Shortcuts \n",
    "\n",
    "in the menu at the top of the page.  You can also take a guided tour of the Jupyter notebook interface by going to \n",
    "\n",
    "> Help > User Interface Tour\n",
    "\n",
    "### Exercises - changing the character of a cell / evaluating a cell\n",
    "\n",
    "1. Find the keyboard shortcut that allows you to create a new cell below a given cell.  \n",
    "2. Create that new cell below this one, and change it to a \"markdown\" cell.  \n",
    "3. Type your name and press <kbd>Shift</kbd>+<kbd>Enter</kbd>.  \n",
    "4. What happened when you did this?  Describe what happened by doubling clicking on the \"Answer\" cell below, typing out your description, and pressing <kbd>Shift</kbd>+<kbd>Enter</kbd>."
   ]
  },
  {
   "cell_type": "markdown",
   "metadata": {},
   "source": [
    "### Answers\n",
    "\n",
    "Type your answers here."
   ]
  },
  {
   "cell_type": "markdown",
   "metadata": {},
   "source": [
    "## Getting help the fast way with Jupyter\n",
    "\n",
    "Jupyter notebooks are particularly powerful for getting help or viewing documentation in a very fast, efficient way.  For example, let's say that someone has told you there is a python command (technically a function -- we'll get to functions later) called `print` that allows one to print the output of a certain line of code, but you have no experience with print and want to find out exactly how to use it.  You can do this by typing the command \"print\" followed by a question mark with no spaces:\n",
    "\n",
    "    print?\n",
    "\n",
    "### Exercises - a little practice with help in Jupyter\n",
    "\n",
    "1. Create a new cell below this one, type `print?` into the cell, and then press <kbd>Shift</kbd>+<kbd>Enter</kbd> run the contents of the cell.  The Python [**interpreter**](http://www.programiz.com/article/difference-compiler-interpreter) then reads the contents of the cell and runs whatever is inside. Note that when a code cell is being run, the brackets to the right of the cell will look like `[*]` which just indicates that the cell is being run. Once this is over, the box should then be filled with a number representing which output you're on. In the answer cell below the cell where you run the command `print?`, describe what happened."
   ]
  },
  {
   "cell_type": "markdown",
   "metadata": {},
   "source": [
    "### Answers\n",
    "\n",
    "Type your answers here."
   ]
  },
  {
   "cell_type": "markdown",
   "metadata": {},
   "source": [
    "### Exercise follow-up\n",
    "\n",
    "You should see in the output that `print` is a builtin function.  This means that it's a part of the standard Python distribution.  No special packages need to be imported to use this function.  We'll be using print quite a bit while coding, especially for debugging code.\n",
    "\n",
    "## Tab completion\n",
    "\n",
    "Suppose that you are in the midst of writing some code, and despite your best efforts, you just can't seem to remember the full name of a command you wanted to use.  Have no fear, tab completion is here!  \n",
    "\n",
    "Tab completion does exactly what its name suggests -- if you're in the middle of writing something, pressing the <kbd>Tab</kbd> key tells the notebook to try to complete it for you.  If Jupyter recognizes the thing you're trying to type (it can even be something you've defined yourself earlier in your code!), then it will complete it for you or else give you a list of possible ways to complete it if there is more than one command that starts in that way.  \n",
    "\n",
    "For example, we have already seen that `print` is a command built into the standard python distribution, so tab completion should work on print, right?  Well see for yourself:\n",
    "\n",
    "### Exercises - a little practice with tab completion\n",
    "\n",
    "1. Create a new cell below this one by entering command mode (press <kbd>esc</kbd>+<kbd>b</kbd>)\n",
    "2. Type only the letters \"`pr`\" and then press the <kbd>Tab</kbd> key.  What happens?  \n",
    "3. What happens if you type the letters \"`pri`\" instead."
   ]
  },
  {
   "cell_type": "markdown",
   "metadata": {},
   "source": [
    "### Answers\n",
    "\n",
    "Type your answers here."
   ]
  },
  {
   "cell_type": "markdown",
   "metadata": {},
   "source": [
    "### Exercise follow-up \n",
    "\n",
    "When you typed only the letters \"`pr`\" and pressed <kbd>Tab</kbd>, you should have seen a dropdown list of legal commands recognized by jupyter that start with those two letters.  Since there is more than one command that starts this way, the menu should have contained more than one option (most likely 6 in fact).  On the other hand, when you typed the letters \"`pri`\" and then pressed <kbd>Tab</kbd>, you should have found that Jupyter automatically completed the code to \"print\" and then turned it green.  This color change is an example of **syntax highlighting**, a useful feature of Jupyter (and every modern code editor) in which certain special kinds of commands are painted a special color by the editor so that code is more readable.\n",
    "\n",
    "## Magic Functions\n",
    "\n",
    "Another powerful feature of jupyter are **magic functions**, these are commands you can type into a jupyter cell that facilitate certain actions.  Magic functions are preceded by a `%` symbol.\n",
    "\n",
    "### Exercises - a little practice with magic functions\n",
    "\n",
    "1. Create a new cell below, type the `%` symbol, and then press <kbd>Tab</kbd>.  Tab completion will give you a list of magic functions available to you.  Use the arrow keys to scroll down the drop-down menu that pops up, until you've highlighted the magic function `%magic`.  Press the <kbd>Enter</kbd> key to tell the notebook to choose that magic function, and then run the cell containing that magic function by pressing <kbd>Shift</kbd>+<kbd>Enter</kbd>.  You should get a pop-up window at the bottom of the page explaining magic functions!  You do not need to read this whole page -- just glance through it to see what documentation looks like."
   ]
  },
  {
   "cell_type": "markdown",
   "metadata": {},
   "source": [
    "# Let's dive into Python\n",
    "\n",
    "Before we go any further, let's engage in a time-honored computer science tradition -- writing a program that prints out the phrase \"Hello World!\"\n",
    "\n",
    "### Exercise - the infamous \"Hello World\" program\n",
    "\n",
    "1. Type out\n",
    "\n",
    "        print(\"Hello World!\")\n",
    "\n",
    "    into a new cell below, and press <kbd>Shift</kbd>+<kbd>Enter</kbd> to evaluate the cell.  You should see an output cell that reads `Hello World!`  Congratulations!  You have entered the world of Python programming!"
   ]
  },
  {
   "cell_type": "markdown",
   "metadata": {},
   "source": [
    "### Exercise follow-up: strings\n",
    "\n",
    "In the preceding program that printed out `Hello World!`, the text to be printed out had quotations around it.  In Python, text surrounded by quotations is called a **string**.  A string is actually a [**data type**](https://en.wikipedia.org/wiki/Data_type) in Python -- it's a way to specify and sometimes store a sequence of symbols.  Strings have many applications, but for our purposes in this tutorial, they will mainly be used to print out certain English statements at certain points in a program."
   ]
  },
  {
   "cell_type": "markdown",
   "metadata": {},
   "source": [
    "## Numbers\n",
    "\n",
    "Perhaps the most fundamental thing one might want to use Python for in physical science applications is working with numbers.  \n",
    "\n",
    "What sorts of numbers can one work with in Python?  In this notebook, we will deal with three main numerical types:\n",
    "\n",
    "- **integers**\n",
    "    - Used to reprsent integers\n",
    "    - In python, integers are given the \"type\" `int`\n",
    "- **floating point numbers** aka **floats**\n",
    "    - Used to represent any real number to finite precision\n",
    "    - In python, floats are given the \"type\" `float`\n",
    "- **complex numbers** designated in Python as the type `complex`\n",
    "    - Used to represent complex numbers to finite precision\n",
    "    - In Python, complex numbers are given the \"type\" `complex`\n",
    "\n",
    "To type in an integer in python, you simply type out that number (in base 10 like you're used to) like this:\n",
    "\n",
    "    1377\n",
    "\n",
    "To type a float, you need to append a decimal point `.` to the end of the number so that the interpreter recognizes that you intend to type a float.  \n",
    "\n",
    "    1377.\n",
    "    \n",
    "You can include zeros after the decimal point like so if you wish,\n",
    "\n",
    "    1377.0\n",
    "\n",
    "but it's not necessary.  To specify a complex number, you need to specify its real and imaginary part.  The imaginary part must be written as a float immediately followed by the character `j` with no spaces because Python uses `j` for the imaginary unit that we often write as $i$ on a piece of paper.  For example, the imaginary number $i$ would be written as follows:\n",
    "\n",
    "    1.0j\n",
    "    \n",
    "while the complex number $17+3i$ would be written as\n",
    "\n",
    "    17.0 + 3.0j\n",
    "    \n",
    "### When should each type of number be used?\n",
    "\n",
    "Whether you use an `int`, `float`, or `complex` in a given application should be based on the meaning of the quantity to which the number is assigning a value.  For example, the position of a particle moving in one dimension in classical mechanics can take any value on the real line, so in this case, it is appropriate to use a `float` to represent its value when you're doing computations in Python.  On the other hand, in quantum mechanics, when one is taking linear combinations of basis vectors in the state space of a system, the coefficients in this linear combination can in general be complex numbers, so in this case it would be appropriate to use the `complex` number type for these coefficients."
   ]
  },
  {
   "cell_type": "markdown",
   "metadata": {},
   "source": [
    "### Exercises\n",
    "\n",
    "1. In Python, there is a built-in function called `type` that can be used to check the type of a given object.  To test out this function, create a new coding cell below, type the following lines\n",
    "\n",
    "        print(type(3))\n",
    "        print(type(3.))\n",
    "        print(type(3.0))\n",
    "        print(type(3.0 + 0.0j))\n",
    "\n",
    "    then press <kbd>Shift</kbd>+<kbd>Enter</kbd> to evaluate the cell.  Notice that in each of these cases, we are writing the number $3$, but we're just representing that number as a different numerical type in Python.\n",
    "2. For each of the following quantities, determine which type of number `int`, `float`, or `complex` would most appropriately be used to represent its value in a Python computation.\n",
    "    1. The number of particles in a system.\n",
    "    2. The speed of each particle in a system.\n",
    "    3. The number of particles per unit volume in a system."
   ]
  },
  {
   "cell_type": "markdown",
   "metadata": {},
   "source": [
    "### Answers.\n",
    "\n",
    "1. No answer needed -- just observe behavior of code.\n",
    "2. Write your answer for each case:\n",
    "    1. \n",
    "    2. \n",
    "    3. "
   ]
  },
  {
   "cell_type": "markdown",
   "metadata": {},
   "source": [
    "## Arithmetical operations\n",
    "\n",
    "Any two integers, real numbers, or complex numbers can be added, subtracted, or multiplied.  In python, these operations are accomplished via the operators `+`, `-`, and `*`.  Division is tricker because\n",
    "\n",
    "- when one integer is divided by another, one doesn't necessarily get an integer\n",
    "\n",
    "and \n",
    "\n",
    "- it's not possible to divide by zero.  \n",
    "\n",
    "We'll discuss division in a moment, but focus on addition, subtraction, or multiplication for the time being.  When any two integers are added, subtracted, or multiplied, we know from math that one gets another integer, and python respects this mathematical fact:"
   ]
  },
  {
   "cell_type": "markdown",
   "metadata": {
    "collapsed": true
   },
   "source": [
    "### Exercise - results of basic arithmetical operations\n",
    "\n",
    "Type \n",
    "\n",
    "    print(2 + 15)\n",
    "    print(2 - 15)\n",
    "    print(2 * 15)\n",
    "    print(type(2 + 15))\n",
    "    print(type(2 - 15))\n",
    "    print(type(2 * 15))\n",
    "\n",
    "into a new cell below, and press <kbd>Shift</kbd>+<kbd>Enter</kbd> to evaluate the cell."
   ]
  },
  {
   "cell_type": "markdown",
   "metadata": {},
   "source": [
    "### Exercise - data type predictions\n",
    "\n",
    "1. Which data type would you predict you'd get if you were to add, subtract, or multiply two floats?\n",
    "2. Which data type would you predict you'd get if you were to divide one integer $n$ by another integer $m$ if $n$ is not divisible by $m$?\n",
    "3. Which data type would you predict you'd get if you were to divide one integer $n$ by another integer $m$ if $n$ is divisible by $m$?\n",
    "4. In a coding cell below, do some testing to determine the answer to the questions in the last exercise for which you made predictions.  Comment on any predictions that were incorrect."
   ]
  },
  {
   "cell_type": "markdown",
   "metadata": {},
   "source": [
    "### Answers\n",
    "\n",
    "1. \n",
    "2. \n",
    "3. \n",
    "4. "
   ]
  },
  {
   "cell_type": "markdown",
   "metadata": {},
   "source": [
    "### Exercises - different kinds of division\n",
    "\n",
    "1. Type \n",
    "\n",
    "        print(15 / 5, 16 / 5, 17 / 5, 18 / 5, 19 / 5, 20 / 5)\n",
    "        print(15 // 5, 16 // 5, 17 // 5, 18 // 5, 19 // 5, 20 // 5)\n",
    "        print(type(15 / 5))\n",
    "        print(type(15 // 5))\n",
    "        \n",
    "   into a new cell below, and press <kbd>Shift</kbd>+<kbd>Enter</kbd> to evaluate the cell.  What seems to be the difference between the single slash and double slash?\n",
    "2. Predict the results of the following computations (including the data type of the output), then try them in your notebook and print out the results in a cell below.  Do the results agree with your predictions?  If not, make sure you understand why you were in error.\n",
    "    1. `2 + 3 / 3`\n",
    "    2. `2 * 6. / 3.`\n",
    "    3. `2 * 6. // 3.`\n",
    "    4. `5 - 7. // 3`"
   ]
  },
  {
   "cell_type": "markdown",
   "metadata": {},
   "source": [
    "### Answers\n",
    "\n",
    "1. \n",
    "2. Write your predictions, then comment on whether or not they were correct in each case:\n",
    "    1. \n",
    "    2. \n",
    "    3. \n",
    "    4. "
   ]
  },
  {
   "cell_type": "markdown",
   "metadata": {},
   "source": [
    "## Other operations\n",
    "\n",
    "Besides other operations, there are others one can perform on the numerical data types discussed above.  One of the most often used and useful of these is taking a number to a **power**, which in Python is denoted with a double asterisk `**`\n",
    "\n",
    "- power: `**`\n",
    "\n",
    "For example, if we wanted to compute $5^{13}$, we would type\n",
    "\n",
    "    5 ** 15\n",
    "\n",
    "Just as useful are comparison operators like equalities and inequalities:\n",
    "\n",
    "- equality: `==`\n",
    "- less than: `<`\n",
    "- greater than: `>`\n",
    "- less than or equal to: `<=`\n",
    "- greater than or equal to: `>=`\n",
    "- not equal to: `!=`\n",
    "\n",
    "Each of these operators takes as inputs two numbers and outputs either `True` or `False`.  For example, suppose we expect that $2^10 > 1000$, but we want the interpreter to check this, then we could run the following code:\n",
    "\n",
    "    2 ** 10 > 1000\n",
    "\n",
    "In this case, the interpreter would output `True` because $2^{10} = 1024$ so the statement $2^{10} > 1000$ is a true statement.\n",
    "\n",
    "As we will see later, these comparison operators will be especially useful as a means of controlling the logical flow of a program.\n",
    "\n",
    "Finally, we mention the **modulo** operation denoted `%`.  This operation yields the remainder when one number is divided by another.  For example, if we were to run the code\n",
    "\n",
    "    24 % 2\n",
    "    \n",
    "Then the interpreter would output\n",
    "\n",
    "    0\n",
    "    \n",
    "because $24$ is divisible by $2$ with no remainder.  In fact, this is a convenient way to use Python to check if an integer is even -- check and see that when it's divided by two, the remainder is zero.  On the other hand, suppose we run the following code:\n",
    "\n",
    "    13 % 2\n",
    "    \n",
    "then the output in this case would be\n",
    "\n",
    "    1\n",
    "    \n",
    "because any odd integer has remainder $1$ when divided by $2$."
   ]
  },
  {
   "cell_type": "markdown",
   "metadata": {},
   "source": [
    "### Exercise\n",
    "\n",
    "Predict the results of the following computations (including the data type of the output), then try them in your notebook and print out the results in a cell below.  Do the results agree with your predictions?  If not, make sure you understand why you were in error.\n",
    "\n",
    "1. `2 ** 4`\n",
    "2. `2. ** 4`\n",
    "3. `(2 + 1j) ** 2`\n",
    "4. `1 == 1`\n",
    "5. `1. == 1`\n",
    "6. `1 + 0j == 1`\n",
    "7. `1 > 2`\n",
    "8. `1 >= 1.`\n",
    "9. `225 % 15`\n",
    "10. `13 % 3`"
   ]
  },
  {
   "cell_type": "markdown",
   "metadata": {},
   "source": [
    "### Answer - Predictions\n",
    "\n",
    "Type list of predictions here.\n",
    "\n",
    "1. \n",
    "2. \n",
    "3. \n",
    "4. \n",
    "5. \n",
    "6. \n",
    "7. \n",
    "8. \n",
    "9. \n",
    "10. "
   ]
  },
  {
   "cell_type": "markdown",
   "metadata": {},
   "source": [
    "# Variables\n",
    "\n",
    "If we want to use a programming language as more than a calculator, then we need to have the ability to assign a symbol to a value (either a number, or perhaps a value that is some other sort of object) so that we can use it repeatedly.  A symbol can be assigned a value by using a *single* equals sign `=` like so:"
   ]
  },
  {
   "cell_type": "code",
   "execution_count": 3,
   "metadata": {
    "collapsed": false
   },
   "outputs": [
    {
     "name": "stdout",
     "output_type": "stream",
     "text": [
      "10\n"
     ]
    }
   ],
   "source": [
    "x = 10\n",
    "print(x)"
   ]
  },
  {
   "cell_type": "markdown",
   "metadata": {},
   "source": [
    "In the first line, the **variable** `x` is assigned the integer value 10, and in the second line, the print command prints the value of `x`.  \n",
    "\n",
    "Notice that what the single equals sign (`=`) does is completely different than what the double equals sign (`==`) does.  The double equals sign compares two objects and outputs a **boolean** value `True` or `False` depending on whether or not the objects are the same.  The single equals sign tells the python iterpreter to associate a desired value with a specified symbol.  \n",
    "\n",
    "As you might imagine, there are rules that govern what sorts of symbols and sequences of symbols are allowed to be used as varible names in Python:\n",
    "\n",
    "- Variable names must start with either an underscore or a letter (either lowercase or upper case)\n",
    "- After the first symbol in a variable name, the name should conist of letters, numbers, and underscores with no spaces\n",
    "- Variable names are case sensitive: the variable names `variable` and `VARIABLE` are not the same"
   ]
  },
  {
   "cell_type": "markdown",
   "metadata": {},
   "source": [
    "### Exercise\n",
    "\n",
    "Consider the following blocks of code.  For each code block:\n",
    "\n",
    "1. Predict what the output would be in each case including the data type where relevant.  Do not evaluate the code block in a code cell yet.\n",
    "2. Double click on this cell where the blockes are written, and type your prediction for each block right under the block.\n",
    "3. For each block, create a new cell below this one, run the code block, and see if the output agrees with your prediction.\n",
    "4. If the output does not agree with your prediction, create a mardown cell below the code cell where the code block was run, and explain your error.\n",
    "\n",
    "#### Block 1\n",
    "\n",
    "    this_is_a_variable = 13\n",
    "    this_is_a_variable_2 = 7\n",
    "    print(this_is_a_variable * this_is_a_variable_2)\n",
    "\n",
    "#### Block 2\n",
    "\n",
    "    variable = 10\n",
    "    VARIABLE = 13\n",
    "    print(variable == VARIABLE)\n",
    "\n",
    "#### Block 3\n",
    "\n",
    "    x = 10\n",
    "    print(x)\n",
    "    x = 11\n",
    "    print(x)\n",
    "\n",
    "\n",
    "#### Block 4\n",
    "\n",
    "    x = 10\n",
    "    print(x)\n",
    "    x = x + 3\n",
    "    print(x)\n",
    "    x = x - 3\n",
    "    print(x)\n",
    "    x = x ** 2\n",
    "    print(x)\n",
    "\n",
    "\n",
    "#### Block 5\n",
    "\n",
    "    x = 10\n",
    "    print(x)\n",
    "    x += 3\n",
    "    print(x)\n",
    "    x -= 3\n",
    "    print(x)\n",
    "\n",
    "\n",
    "#### Block 6\n",
    "\n",
    "    x = 10\n",
    "    print(x, type(x))\n",
    "    x = 13 + 0j\n",
    "    print(x, type(x))\n",
    "    x = \"Goodbye Sweet World!\"\n",
    "    print(x, type(x))\n",
    "\n",
    "\n",
    "#### Block 7\n",
    "\n",
    "    x = 13\n",
    "    y = x\n",
    "    x = 7\n",
    "    print(y)\n",
    "    print(x)"
   ]
  },
  {
   "cell_type": "markdown",
   "metadata": {},
   "source": [
    "# Controlling the flow of your programs\n",
    "\n",
    "During the course of the program, it's common to want the Python interpreter to choose what to do next based on whether certain conditions are met.  A [**control flow**](https://en.wikipedia.org/wiki/Control_flow) statement is a statement whose execution results in a choice being made as to which of two or more paths should be followed.\n",
    "\n",
    "## Using logic to control flow -- the `if` command\n",
    "\n",
    "One can control how a program proceeds by using **logical statements**.  For example, if you want to tell the interpreter to print the value of `y` provided the value of another variable `x` is negative, you can use an `if` statement in your code:\n",
    "\n",
    "    if x < 0:\n",
    "        print(y)\n",
    "        \n",
    "There are a couple of important things to note about how this statement is written.\n",
    "\n",
    "- Notice that the `if` statement on the first line ends with a colon, this is required for the interpreter to understand where the condition following the `if` ends.\n",
    "- The print statement on the second line is indented (by four spaces or a tab).  This is necessary for the Python interpreter to determine the **scope** of the if statement, namely which statements should be executed provided the condition following `if` is true.  This indented block for code can be of arbitrary length and therefore contain a program of arbitrary complexity."
   ]
  },
  {
   "cell_type": "markdown",
   "metadata": {},
   "source": [
    "### Exercises - predicting outcomes of programs with control flow statements\n",
    "\n",
    "1. For each of the following code blocks, predict what the result would be if the block were executed.\n",
    "2. Create a new coding cell below this one, run each block, and compare the output to your prediction.  \n",
    "3. If your predictions don't match the results of running each block, make sure to investigate and understand why.\n",
    "\n",
    "#### Block 1\n",
    "\n",
    "    x = -3\n",
    "    y = 2\n",
    "    if x < 0:\n",
    "        print(y)\n",
    "\n",
    "#### Block 2\n",
    "\n",
    "    x = -3\n",
    "    y = 2\n",
    "    if x > y:\n",
    "        print(x)\n",
    "        print(x - y)\n",
    "    if x < y:\n",
    "        print(y)\n",
    "        print(x + y)\n",
    "        \n",
    "#### Block 3\n",
    "\n",
    "    x = 2\n",
    "    y = -3\n",
    "    x = y\n",
    "    y = 2\n",
    "    if x > y:\n",
    "        print(y)\n",
    "    if x < y:\n",
    "        print(x)\n",
    "    if x == y:\n",
    "        print(x + y - y + x)"
   ]
  },
  {
   "cell_type": "markdown",
   "metadata": {},
   "source": [
    "### Exercises - writing simple programs with control flow statements\n",
    "\n",
    "Below are some programs described in English sentences step-by-step.  Translate each program into working python code, and then run each program in its own new coding cell below to check that it's working properly.\n",
    "\n",
    "#### Program 1\n",
    "\n",
    "1. Assign the variables `x`, `y`, and `z` to have values `13`, `1`, and `17.1` respectively.\n",
    "2. If the numerical distance between `x` and `y` is less than or equal to `4`, print their sum.  Otherwise, print the value of `z`.\n",
    "\n",
    "#### Program 2\n",
    "\n",
    "1. Assign the variables `a` and `b` to have some values you specify.\n",
    "2. If both `a` and `b` are even, print `a` to the power of `b`.\n",
    "3. If both `b` and `b` are odd, print `b` to the power of `a`.\n",
    "4. If `a` is even and `b` is odd, or if `a` is odd and `b` is even, print the product of `a` and `b`."
   ]
  },
  {
   "cell_type": "markdown",
   "metadata": {},
   "source": [
    "## The `else` and `elif` commands"
   ]
  },
  {
   "cell_type": "markdown",
   "metadata": {},
   "source": [
    "The `if` command can be augmented by an `else` command that tells the interpreter what to do in the case that the statement right after `if` evaluates to `False`.  The default is that the interpreter simply ignores the indented code block after the colon, but in some cases you want to instruct the program to do something else in that case.  \n",
    "\n",
    "Suppose, for example, that you want the interpreter to take the absolute value of an `int` or `float`.  Mathematically, the absolute value is defined as $|x| = x$ *if* $x\\geq 0$ and $-x$ *otherwise*.  Notice that even this mathematical definition proceeds by cases controlled by \"if\" and \"otherwise\" which in a python program would be written with an `if` and `else` command as\n",
    "\n",
    "    if x >= 0:\n",
    "        print(x)\n",
    "    else:\n",
    "        print(-x)\n",
    "\n",
    "Let's try this out on an example and see if it works as desired:"
   ]
  },
  {
   "cell_type": "code",
   "execution_count": 2,
   "metadata": {
    "collapsed": false
   },
   "outputs": [
    {
     "name": "stdout",
     "output_type": "stream",
     "text": [
      "13\n"
     ]
    }
   ],
   "source": [
    "x = -13\n",
    "\n",
    "if x >= 0:\n",
    "    print(x)\n",
    "else:\n",
    "    print(-x)"
   ]
  },
  {
   "cell_type": "markdown",
   "metadata": {},
   "source": [
    "Notice that the `else` command worked in a similar way to the `if` command; it must be followed by a colon, and the code to be executed on the next line after the `else` should be indented by four spaces.  However, there is no separate statement after the `else` but before the colon tbecause the indented code block following `else` is executed precisely when the statement after the preceding `if` evaluates to `False`.\n",
    "\n",
    "What if you want to write a piece of code that branches in a more complicated way than just according to whether a single statement is true or false?  For example, suppose you want to implement the \"signum\" (aka sign) function which is defined as follows: if $x > 0$, then $\\mathrm{sgn}(x) = +1$, otherwise if $x = 0$ then $\\mathrm{sgn}(x) = 0$, and otherwise $\\mathrm{sgn}(x) = -1$.  This sentence defining the signum function is quite easy to translate into python code as follows:\n",
    "\n",
    "    if x > 0:\n",
    "        print(1)\n",
    "    elif x == 0:\n",
    "        print(0)\n",
    "    else:\n",
    "        print(-1)\n",
    "\n",
    "Run the following cell to see the code in action.  Change the value of `x` a couple of times in the code to verify that it's working the way you'd expect it to."
   ]
  },
  {
   "cell_type": "code",
   "execution_count": 3,
   "metadata": {
    "collapsed": false
   },
   "outputs": [
    {
     "name": "stdout",
     "output_type": "stream",
     "text": [
      "0\n"
     ]
    }
   ],
   "source": [
    "x = 0\n",
    " \n",
    "if x > 0:\n",
    "    print(1)\n",
    "elif x == 0:\n",
    "    print(0)\n",
    "else:\n",
    "    print(-1)"
   ]
  },
  {
   "cell_type": "markdown",
   "metadata": {},
   "source": [
    "## Using loops to control flow - getting the computer to repeat repeat repeat repeat ..."
   ]
  },
  {
   "cell_type": "markdown",
   "metadata": {},
   "source": [
    "Essentially every nontrivial, useful algorithm that one wishes to implement on a computer takes advantage of the fact that a computer can execute instructions in succession very quickly, and therefore a computer is an ideal device for performing repetitive tasks.  For example, if you wanted to manually compute the sum of all numbers from 1 to 1000 by brute force addition, starting from 1 and adding 2 then adding 3 etc., this would take quite a while.  But for a computer, especially a modern computer, this is a piece of cake.  In order to do this sort of thing, it's often appropriate to use a **loop**.  In python, there are two main kinds of loops that one might generally find useful: **for loops**, which tell python to repeat a certain code block according to a pre-specified list of steps, and **while loops** which tell python to repeat a code block as long as a certain condition evaluates to true.\n",
    "\n",
    "As an example of a simple `for` loop, let's tell the interpreter to add all of the numbers from 1 to 4:"
   ]
  },
  {
   "cell_type": "code",
   "execution_count": 4,
   "metadata": {
    "collapsed": false
   },
   "outputs": [
    {
     "name": "stdout",
     "output_type": "stream",
     "text": [
      "10\n"
     ]
    }
   ],
   "source": [
    "total = 0\n",
    "\n",
    "for n in range(5):\n",
    "    total += n\n",
    "\n",
    "print(total)"
   ]
  },
  {
   "cell_type": "markdown",
   "metadata": {},
   "source": [
    "Here's what happened in that cell:\n",
    "\n",
    "1. The variable `total` was assigned the integer value 0.\n",
    "2. The `for n in range(5)` statement tells the interpreter \"consider the numbers 0, 1, ..., 5 - 1, and exectute the instructions on the code block starting on the next line for each number in that sequence\"\n",
    "3. The code block that starts indented on the next line tells the interpreter to increase the value of the variable `total` by the amount `n` in each iteration of the loop.\n",
    "4. The print statement at the end is not indented, so it's not included in the loop code block.  Because of this, it is executed after the loop is finished.  Since the value of total has increased by `n` on each iteration of the loop, it's value after the loop is finished is 0 + 0 + 1 + 2 + 3 + 4 = 10, so that's the number that's printed.\n",
    "\n",
    "We can see how the loop is operating a bit more clearly if we insert some print statements in the loop code block.  Execute the code in the cell below, but before you do so, try to think to yourself what you'll see in the output when the cell is run."
   ]
  },
  {
   "cell_type": "code",
   "execution_count": null,
   "metadata": {
    "collapsed": true
   },
   "outputs": [],
   "source": [
    "total = 0\n",
    "\n",
    "for n in range(5):\n",
    "    print(\"The current value of n is\", n)\n",
    "    total += n\n",
    "    print(\"The modified value of total is\", total)\n",
    "\n",
    "print(total)"
   ]
  },
  {
   "cell_type": "markdown",
   "metadata": {},
   "source": [
    "The same thing can be done with a `while` loop as follows:"
   ]
  },
  {
   "cell_type": "code",
   "execution_count": 5,
   "metadata": {
    "collapsed": false
   },
   "outputs": [
    {
     "name": "stdout",
     "output_type": "stream",
     "text": [
      "10\n"
     ]
    }
   ],
   "source": [
    "current_number = 1\n",
    "total = 0\n",
    "\n",
    "while current_number < 5:\n",
    "    total += current_number\n",
    "    current_number += 1\n",
    "print(total)"
   ]
  },
  {
   "cell_type": "markdown",
   "metadata": {},
   "source": [
    "Can you see what changed and explain why it also gave the same answer?\n",
    "\n",
    "We said before that it should be a piece of cake for the computer to add the numbers from 1 to 1000, let's put our money where our mouth is and try it out:"
   ]
  },
  {
   "cell_type": "code",
   "execution_count": 6,
   "metadata": {
    "collapsed": false
   },
   "outputs": [
    {
     "name": "stdout",
     "output_type": "stream",
     "text": [
      "500500\n"
     ]
    }
   ],
   "source": [
    "current_number = 1\n",
    "total = 0\n",
    "\n",
    "while current_number <= 1000:\n",
    "    total += current_number\n",
    "    current_number += 1\n",
    "print(total)"
   ]
  },
  {
   "cell_type": "markdown",
   "metadata": {},
   "source": [
    "Wow that was fast!  Let's go up an order of magnitude and sum all numbers from 1 to 10000 and see how fast that finishes"
   ]
  },
  {
   "cell_type": "code",
   "execution_count": 7,
   "metadata": {
    "collapsed": false
   },
   "outputs": [
    {
     "name": "stdout",
     "output_type": "stream",
     "text": [
      "50005000\n"
     ]
    }
   ],
   "source": [
    "current_number = 1\n",
    "total = 0\n",
    "\n",
    "while current_number <= 10000:\n",
    "    total += current_number\n",
    "    current_number += 1\n",
    "print(total)"
   ]
  },
  {
   "cell_type": "markdown",
   "metadata": {},
   "source": [
    "Still extremely fast!  Ok, let's go up another three orders of magnitude"
   ]
  },
  {
   "cell_type": "code",
   "execution_count": 8,
   "metadata": {
    "collapsed": false
   },
   "outputs": [
    {
     "name": "stdout",
     "output_type": "stream",
     "text": [
      "50000005000000\n"
     ]
    }
   ],
   "source": [
    "current_number = 1\n",
    "total = 0\n",
    "\n",
    "while current_number <= 10000000:\n",
    "    total += current_number\n",
    "    current_number += 1\n",
    "print(total)"
   ]
  },
  {
   "cell_type": "markdown",
   "metadata": {},
   "source": [
    "All right well now the computer had to think a bit.  Let's go one higher just to make the computer try a bit harder"
   ]
  },
  {
   "cell_type": "code",
   "execution_count": 9,
   "metadata": {
    "collapsed": false
   },
   "outputs": [
    {
     "name": "stdout",
     "output_type": "stream",
     "text": [
      "5000000050000000\n"
     ]
    }
   ],
   "source": [
    "current_number = 1\n",
    "total = 0\n",
    "\n",
    "while current_number <= 100000000:\n",
    "    total += current_number\n",
    "    current_number += 1\n",
    "print(total)"
   ]
  },
  {
   "cell_type": "markdown",
   "metadata": {},
   "source": [
    "On my machine, that took about 20 seconds."
   ]
  },
  {
   "cell_type": "markdown",
   "metadata": {},
   "source": [
    "### Exercises - predicting outcomes of programs that contain loops\n",
    "\n",
    "- For each of the code blocks below, predict what the output will be.  \n",
    "- After committing to a prediction and writing it down in the answer cell below, create a new cell and run each code block in its own cell.  Run the cell, and compare your prediction to the result of the program.\n",
    "- If you prediction doesn't agree with the result of the program, figure out why.\n",
    "\n",
    "#### Block 1\n",
    "\n",
    "    for n in range(10):\n",
    "        print(n+1)\n",
    "        \n",
    "#### Block 2\n",
    "\n",
    "    for n in range(6):\n",
    "        print(n % 2)\n",
    "        \n",
    "#### Block 3\n",
    "\n",
    "    for n in range(13)\n",
    "        if n % 2 == 0:\n",
    "            print(n)\n",
    "        else:\n",
    "            print(\"I don't like number\", n)\n",
    "\n",
    "#### Block 4\n",
    "\n",
    "    n = 0\n",
    "    while n < 6:\n",
    "        print(n ** 2)\n",
    "        n += 1\n",
    "        \n",
    "#### Block 5\n",
    "\n",
    "    n = 40\n",
    "    while n > 0:\n",
    "        if n % 5 == 0:\n",
    "            print(n % 3)\n",
    "        n -= 4\n",
    "    print(\"What a strange program\")"
   ]
  },
  {
   "cell_type": "markdown",
   "metadata": {},
   "source": [
    "### Answers - predictions\n",
    "\n",
    "Type out precisely what you think the output of each code block above will be exactly as it will appear then the block is run in its own cell:\n",
    "\n",
    "#### Block 1\n",
    "\n",
    "    Predicted first line of output\n",
    "    Predicted second line of output\n",
    "    ...\n",
    "\n",
    "#### Block 2\n",
    "\n",
    "    Predicted first line of output\n",
    "    Predicted second line of output\n",
    "    ...\n",
    "\n",
    "#### Block 3\n",
    "\n",
    "    Predicted first line of output\n",
    "    Predicted second line of output\n",
    "    ...\n",
    "\n",
    "#### Block 4\n",
    "\n",
    "    Predicted first line of output\n",
    "    Predicted second line of output\n",
    "    ...\n",
    "\n",
    "#### Block 5\n",
    "\n",
    "    Predicted first line of output\n",
    "    Predicted second line of output\n",
    "    ..."
   ]
  },
  {
   "cell_type": "markdown",
   "metadata": {},
   "source": [
    "### Exercises - writing programs that repeat using loops\n",
    "\n",
    "1. Using a while loop, print out all of the odd, positive integers less than 17.\n",
    "2. Using a for loop, print out all of the odd, positive integers less than 17.\n",
    "3. Write program that finds each even integer greater than 57 and less than 97, and each time it gets to one of these numbers, it prints out `This is a fun number!`.\n",
    "3. Write a program that prints out the square of every even number greater than 0 and less than 15.\n",
    "4. Write a program that prints out the first 10 Fibonnacci numbers.\n",
    "5. Write a program in which the user can specify a positive integer $n$, and the program will output the $n^\\mathrm{th}$ Fibonacci number."
   ]
  },
  {
   "cell_type": "markdown",
   "metadata": {},
   "source": [
    "# Functions\n",
    "\n",
    "When we want to re-use a certain piece of code, a convenient way to do so is to define a function.  We have already encountered certain functions that are built into python.  For example, we have seen that the `type` function takes some Python object (like an int or float) as its input and outputs what sort of object it is.  The `print` function takes some python expression as its input, and outputs the value of that expression.  There are lots of other functions built into Python that you can explore here, but we now want to discuss how a user can write his own Python functions.\n",
    "\n",
    "## Why use functions in the first place?\n",
    "\n",
    "Among the most important motivations for writing your own python functions is the goal of writing **modular** code.  This means writing code that comes in reasonably small pieces, each of which performs a specific task.  There are any advantages to writing modular code, among the most important are:\n",
    "\n",
    "1. If code is modular, then each segment of the code can be individually developed and dubugged before being used in an entire program.  This way, if the program isn't working properly, one can be reasonably certain that the properly debugged piece of code is not the culprit.\n",
    "2. If code is modular, then one can separate what a certain segment of code does from the precise implementation -- the way in which it accomplishes its tasks.  This means that if at a future date, one finds a better way of achieving that task, one needs only change an isolated piece of code with the new implementation instead of writing the whole thing over again.\n",
    "3. Writing modular code makes it easier to plan and explain the logic of the code.  By breaking the code up into small pieces, each of which performs a specific function, one can focus on implementing each piece of code one at a time once the logic is layed out as opposed to having to think about the entire code all the time.  Also, when someone is trying to understand the code, they don't necessarily need to understand every line to get what it's doing, they'll just need to understand how all the various smaller pieces fit together.  If they want to delve into the nitty gritty implementation of each piece, they are free to do so, but they don't have to.\n",
    "\n",
    "Writing your own functions is a specific way of making code modular.  A function is an object that takes in certain inputs, does something potentially complicated to these inputs, and then returns an output.  By writing a function to perform a task, you can use this function to perform that task again and again without having to copy and paste the full code for each instance of the task.\n",
    "\n",
    "## User-defined functions\n",
    "\n",
    "In Python, defining a function is extremely easy and intuitive.  Let's say, for example, that we want to define a function `my_square` that multiplies an `int`, `float`, or `complex` by itself, then we would write"
   ]
  },
  {
   "cell_type": "code",
   "execution_count": 10,
   "metadata": {
    "collapsed": true
   },
   "outputs": [],
   "source": [
    "def my_square(x):\n",
    "    return x * x"
   ]
  },
  {
   "cell_type": "markdown",
   "metadata": {},
   "source": [
    "As you can see from this example, a function definiton starts with the code `def` which tells the interpreter that the user intends to define a function.  The word `def` is then followed by a single space and then the name of the function.  Adjoined to the name of the function are a set of parenthesis that enclose the labels one wishes to use for the argument(s) of the function, and a colon follows.  After the colon, one needs to go to the next line, and indent four spaces to tell the interpreter what's in the body of the function.  The body of the function can contain any code you wish, and if you want the function to output a certain value, then that output is specified by the statement `return` followed by whatever you want the output to be.  Note that a function does not need to return anything, so one can leave the return statement blank.\n",
    "\n",
    "One nice thing about the jupyter notebook is that once you have defined a function, the notebook will recognize the function from that point on in its tab completion library, so you can only partially write our the name of the function, and the notebook will complete the name for you, or give you a list of possible completions."
   ]
  },
  {
   "cell_type": "markdown",
   "metadata": {},
   "source": [
    "### Exercises\n",
    "\n",
    "- In a coding cell below, define a function called `my_fifth_power` that takes a number as input and outputs the fifth power of that number.  Your implementation should use only Python's built-in multiplication operation -- no built-in power operation allowed.  Check to make sure that the Jupyter notebook now has saved this function in its tab completion list by creating a new coding cell, typing `m` and then pressing <kbd>Tab</kbd>.  A list of functions starting with the letter `m` that are available to you should pop up, and your function `my_fifth_power` should be somewhere on that list.\n",
    "- Define a function `my_max` that takes two numbers as inputs and outputs the larger number if they are different.  If the two numbers are the same, the function should output either of the two numbers.\n",
    "- Define a function `my_max_three` that takes three numbers as inputs and outputs their maximum.\n",
    "- Define a function `my_integer_sum` that takes a positive integer `n` as its input and outputs the sum of all integers less than or equal to `n`.\n",
    "- Define a function `my_integer_product` that takes a positive integer `n` as its input and computes the product of all integers less than or equal to `n` as its output.\n",
    "- Define a function `my_function_sum` that takes a float-valued function $f$ of integer argument and an integer $n$ as its inputs, and outputs the sum $f(1) + f(2) + \\cdots + f(n)$ as its output.\n",
    "- Define a function `my_function_product` that takes a float-valued function $f$ of integer argument and an integer $n$ as its inputs, and outputs the product $f(1)\\cdot f(2) \\cdots f(n)$ as its output.\n",
    "- Define a function `my_absolute` that takes a float as its input and outputs its absolute value.\n",
    "- Define a function `my_power` that uses only Python's built-in multiplication to compute any non-negative integer power of a number."
   ]
  }
 ],
 "metadata": {
  "kernelspec": {
   "display_name": "Python 3",
   "language": "python",
   "name": "python3"
  },
  "language_info": {
   "codemirror_mode": {
    "name": "ipython",
    "version": 3
   },
   "file_extension": ".py",
   "mimetype": "text/x-python",
   "name": "python",
   "nbconvert_exporter": "python",
   "pygments_lexer": "ipython3",
   "version": "3.5.1"
  }
 },
 "nbformat": 4,
 "nbformat_minor": 0
}

{
 "cells": [
  {
   "cell_type": "markdown",
   "metadata": {},
   "source": [
    "# Gaussian Elimination with Backpropogation\n",
    "\n",
    "### We can solve a system of equations by representing them as a matrix and using Gaussian Elimination with Backpropogation.\n",
    "\n",
    "A common example of this in physics is solving for currents through circuit elements (resistors) using Kirchoff's Loop and Junction Rules.\n",
    "\n",
    "The example shown below,\n",
    "<img src=\"circuit.png\" width=\"300\">\n",
    "Gives the equations: \n",
    "\n",
    "$$5I_1 - 3I_2 = 5$$ \n",
    "$$-3I_1 + 9I_2  - 6I_3= 4$$\n",
    "$$-6I_2  + 10I_3= 1$$\n",
    "\n",
    "This system of equations can be represented as a matrix equation of the form ${\\bf Ax = b}$: \n",
    "\n",
    "\n",
    "$ \n",
    "\\begin{bmatrix}\n",
    "    5       & -3 & 0  \\\\\n",
    "    -3       & 9 & -6  \\\\\n",
    "    -6      & 0 & 10 \n",
    "\\end{bmatrix} \n",
    "$\n",
    "$\n",
    " \\begin{bmatrix}\n",
    "    I_1      \\\\\n",
    "    I_2      \\\\\n",
    "    I_3    \n",
    "\\end{bmatrix}\n",
    "$\n",
    "=\n",
    "$\n",
    "\\begin{bmatrix}\n",
    "    5      \\\\\n",
    "    4      \\\\\n",
    "    1    \n",
    "\\end{bmatrix}\n",
    "$\n",
    "\n",
    "### 1) On a piece of paper, do the Gaussian Elimination for this problem by hand with your partner. \n",
    "### Treat this as a pair programming assignment. You will each take turns writing.\n",
    "\n",
    "### 2) Next, we will look at the code to implement this method:\n",
    "    a) Comment each line of the below code to indicate what it does\n",
    "    b) Solve the same problem as above using the provided functions. \n",
    "    *Reminder: Matrices are 2D arrays, thus must be created with the numpy arrays.\n",
    "\n",
    "\n",
    "\n",
    "\n",
    "\n"
   ]
  },
  {
   "cell_type": "code",
   "execution_count": 8,
   "metadata": {
    "collapsed": false
   },
   "outputs": [
    {
     "name": "stdout",
     "output_type": "stream",
     "text": [
      "[[  5.  -3.   0.]\n",
      " [ -3.   9.  -6.]\n",
      " [  0.  -6.  10.]]\n",
      "[[ 1.         -0.6         0.        ]\n",
      " [ 0.          1.         -0.83333333]\n",
      " [ 0.          0.          1.        ]]\n",
      "[ 1.          0.97222222  1.36666667]\n"
     ]
    }
   ],
   "source": [
    "from numpy import array,zeros\n",
    "A=array([[5, -3, 0], [-3, 9, -6], [0, -6, 10]], float)\n",
    "print(A)\n",
    "b=array([5,4,1], float)\n",
    "def Gauss_Elim(A,b): #defines the function\n",
    "    N = len(b) #defines N as the length of b\n",
    "    #print(N) #prints N\n",
    "    for m in range(N): #creates a for loop to iterate N times\n",
    "        div = A[m,m] #divides by the diagonal\n",
    "        b[m] /= div \n",
    "        A[m,:] /= div \n",
    "        for i in range(m+1,N): #creates a for loop to itereate from m+1 to N\n",
    "            mult = A[i,m] #subtracts from the lower rows\n",
    "            b[i] -= mult*b[m]\n",
    "            A[i,:] -= mult*A[m,:]\n",
    "    return A,b #gives result\n",
    "Asol , bsol  = Gauss_Elim(A,b)\n",
    "print(Asol)\n",
    "print(bsol)"
   ]
  },
  {
   "cell_type": "code",
   "execution_count": 9,
   "metadata": {
    "collapsed": false
   },
   "outputs": [
    {
     "name": "stdout",
     "output_type": "stream",
     "text": [
      "[ 2.26666667  2.11111111  1.36666667]\n"
     ]
    }
   ],
   "source": [
    "def Back_Sub(A,b): #defines the function\n",
    "    N = len(b) #defines N as the length of b\n",
    "    x = zeros(N,float) #creates an array of N zeros\n",
    "    x[N-1] = b[N-1] \n",
    "    for m in range(N-1,-1,-1): #creates for loop to iterate through N-1 to -1 backwards\n",
    "        x[m] = b[m]#backsubstitution\n",
    "        for i in range(m+1,N):\n",
    "            x[m] -= A[m,i]*x[i]\n",
    "    return x\n",
    "print(Back_Sub(A,b))"
   ]
  },
  {
   "cell_type": "code",
   "execution_count": null,
   "metadata": {
    "collapsed": true
   },
   "outputs": [],
   "source": []
  },
  {
   "cell_type": "markdown",
   "metadata": {},
   "source": [
    "## Questions:\n",
    "    1) What are the benefits of using the algorithm as opposed to solving by hand?\n",
    "    2) How can this code fail?"
   ]
  },
  {
   "cell_type": "code",
   "execution_count": null,
   "metadata": {
    "collapsed": true
   },
   "outputs": [],
   "source": [
    "#1) It's much faster and it stores the matrices so you can easily use them later. Also once you have the algorithm,\n",
    "#you can manipulate it for more problems without rewriting everything.\n",
    "#2) There is no easy way to tell if something is wrong in the code until after we calculate everything."
   ]
  }
 ],
 "metadata": {
  "kernelspec": {
   "display_name": "Python 3",
   "language": "python",
   "name": "python3"
  },
  "language_info": {
   "codemirror_mode": {
    "name": "ipython",
    "version": 3
   },
   "file_extension": ".py",
   "mimetype": "text/x-python",
   "name": "python",
   "nbconvert_exporter": "python",
   "pygments_lexer": "ipython3",
   "version": "3.5.1"
  }
 },
 "nbformat": 4,
 "nbformat_minor": 0
}

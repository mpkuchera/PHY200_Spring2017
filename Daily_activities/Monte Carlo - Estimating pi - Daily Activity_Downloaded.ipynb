{
 "cells": [
  {
   "cell_type": "markdown",
   "metadata": {},
   "source": [
    "# Estimating $\\pi$ using Monte Carlo Integration Methods\n",
    "\n",
    "<img src=\"https://upload.wikimedia.org/wikipedia/commons/thumb/0/03/Circle-withsegments.svg/1200px-Circle-withsegments.svg.png\" alt=\"image of a circle\" width=\"200\" />\n",
    "\n",
    "## Problem Statement:\n",
    "We notice that the area of a circle is always proportional to $R^2$, but we want to find the constant $c$ such that $A = cR^2$. We know that the radius of a circle is given by $r = \\sqrt{x^2+y^2}$.\n",
    "\n",
    "If we generate random numbers within a box with bounds between $-a$ and $a$, the probability that a random point $(x,y)$ will lie within a circle of radius $R$ is:\n",
    "$$Pr(circle) = \\frac{A_{circle}}{A_{box}} = \\frac{\\#hits\\_in\\_circle}{\\#hits\\_total}$$\n",
    "\n",
    "Therefore, $$A_{circle} = A_{box}\\frac{\\#hits\\_in\\_circle}{\\#hits\\_total} = cR^2 $$ \n",
    "\n",
    "## Task:\n",
    "1) Use this knowledge to approximate the constant $c$. Choose $a = 0.5$ and $R = 0.5$.\n",
    "\n",
    "2) For an appropriate number of hits (i.e. a number that doesn't take too long), plot your hits that were classified as inside the circle and outsides the circle with different colors on the same plot.\n",
    "\n",
    "### Hints:\n",
    "1) The random number generator `random` from the package `random` returns uniformly distributed random numbers in the range $0 \\leq x \\lt 1$.\n",
    "\n",
    "2) I recommend to code parts 1) and 2) from the outset so that you can see if you are doing what you expect."
   ]
  },
  {
   "cell_type": "code",
   "execution_count": null,
   "metadata": {
    "collapsed": true
   },
   "outputs": [],
   "source": [
    "%matplotlib inline\n",
    "# add imports here"
   ]
  },
  {
   "cell_type": "code",
   "execution_count": null,
   "metadata": {
    "collapsed": true
   },
   "outputs": [],
   "source": [
    "# add code here"
   ]
  },
  {
   "cell_type": "code",
   "execution_count": null,
   "metadata": {},
   "outputs": [],
   "source": [
    "# plot methods here\n",
    "plot(x,y,'.')"
   ]
  },
  {
   "cell_type": "code",
   "execution_count": null,
   "metadata": {},
   "outputs": [],
   "source": []
  },
  {
   "cell_type": "code",
   "execution_count": null,
   "metadata": {
    "collapsed": true
   },
   "outputs": [],
   "source": []
  },
  {
   "cell_type": "code",
   "execution_count": null,
   "metadata": {},
   "outputs": [],
   "source": []
  },
  {
   "cell_type": "code",
   "execution_count": null,
   "metadata": {},
   "outputs": [],
   "source": []
  },
  {
   "cell_type": "code",
   "execution_count": null,
   "metadata": {
    "collapsed": true
   },
   "outputs": [],
   "source": []
  }
 ],
 "metadata": {
  "kernelspec": {
   "display_name": "Python 3",
   "language": "python",
   "name": "python3"
  },
  "language_info": {
   "codemirror_mode": {
    "name": "ipython",
    "version": 3
   },
   "file_extension": ".py",
   "mimetype": "text/x-python",
   "name": "python",
   "nbconvert_exporter": "python",
   "pygments_lexer": "ipython3",
   "version": "3.5.1"
  }
 },
 "nbformat": 4,
 "nbformat_minor": 1
}
